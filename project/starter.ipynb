{
 "cells": [
  {
   "cell_type": "markdown",
   "metadata": {},
   "source": [
    "# Deploy and monitor a machine learning workflow for Image Classification"
   ]
  },
  {
   "cell_type": "markdown",
   "metadata": {},
   "source": [
    "## Setting up this notebook\n",
    "\n",
    "Notes about the instance size and kernel setup: this notebook has been tested on\n",
    "\n",
    "1. The `Python 3 (Data Science)` kernel\n",
    "2. The `ml.t3.medium` Sagemaker notebook instance\n",
    "\n",
    "## Data Staging\n",
    "\n",
    "We'll use a sample dataset called CIFAR to simulate the challenges Scones Unlimited are facing in Image Classification. In order to start working with CIFAR we'll need to:\n",
    "\n",
    "1. Extract the data from a hosting service\n",
    "2. Transform it into a usable shape and format\n",
    "3. Load it into a production system\n",
    "\n",
    "In other words, we're going to do some simple ETL!\n",
    "\n",
    "### 1. Extract the data from the hosting service\n",
    "\n",
    "In the cell below, define a function `extract_cifar_data` that extracts python version of the CIFAR-100 dataset. The CIFAR dataaset is open source and generously hosted by the University of Toronto at: https://www.cs.toronto.edu/~kriz/cifar-100-python.tar.gz "
   ]
  },
  {
   "cell_type": "code",
   "execution_count": 10,
   "metadata": {},
   "outputs": [],
   "source": [
    "import requests\n",
    "\n",
    "def extract_cifar_data(url, filename=\"cifar.tar.gz\"):\n",
    "    \"\"\"A function for extracting the CIFAR-100 dataset and storing it as a gzipped file\n",
    "    \n",
    "    Arguments:\n",
    "    url      -- the URL where the dataset is hosted\n",
    "    filename -- the full path where the dataset will be written\n",
    "    \n",
    "    \"\"\"\n",
    "    \n",
    "    # Todo: request the data from the data url\n",
    "    # Hint: use `requests.get` method\n",
    "    r = requests.get(url)\n",
    "    with open(filename, \"wb\") as file_context:\n",
    "        file_context.write(r.content)\n",
    "    return"
   ]
  },
  {
   "cell_type": "markdown",
   "metadata": {},
   "source": [
    "Let's test it out! Run the following cell and check whether a new file `cifar.tar.gz` is created in the file explorer."
   ]
  },
  {
   "cell_type": "code",
   "execution_count": 11,
   "metadata": {},
   "outputs": [],
   "source": [
    "extract_cifar_data(\"https://www.cs.toronto.edu/~kriz/cifar-100-python.tar.gz\")     "
   ]
  },
  {
   "cell_type": "markdown",
   "metadata": {},
   "source": [
    "### 2. Transform the data into a usable shape and format\n",
    "\n",
    "Clearly, distributing the data as a gzipped archive makes sense for the hosting service! It saves on bandwidth, storage, and it's a widely-used archive format. In fact, it's so widely used that the Python community ships a utility for working with them, `tarfile`, as part of its Standard Library. Execute the following cell to decompress your extracted dataset:"
   ]
  },
  {
   "cell_type": "code",
   "execution_count": 12,
   "metadata": {},
   "outputs": [],
   "source": [
    "import tarfile\n",
    "\n",
    "with tarfile.open(\"cifar.tar.gz\", \"r:gz\") as tar:\n",
    "    tar.extractall()"
   ]
  },
  {
   "cell_type": "markdown",
   "metadata": {},
   "source": [
    "A new folder `cifar-100-python` should be created, containing `meta`, `test`, and `train` files. These files are `pickles` and the [CIFAR homepage](https://www.cs.toronto.edu/~kriz/cifar.html) provides a simple script that can be used to load them. We've adapted the script below for you to run:"
   ]
  },
  {
   "cell_type": "code",
   "execution_count": 78,
   "metadata": {},
   "outputs": [],
   "source": [
    "import pickle\n",
    "\n",
    "with open(\"./cifar-100-python/meta\", \"rb\") as f:\n",
    "    dataset_meta = pickle.load(f, encoding='bytes')\n",
    "\n",
    "with open(\"./cifar-100-python/test\", \"rb\") as f:\n",
    "    dataset_test = pickle.load(f, encoding='bytes')\n",
    "dataset_meta[b'fine_label_names']==b'bicycle'\n",
    "with open(\"./cifar-100-python/train\", \"rb\") as f:\n",
    "    dataset_train = pickle.load(f, encoding='bytes')"
   ]
  },
  {
   "cell_type": "code",
   "execution_count": 79,
   "metadata": {},
   "outputs": [
    {
     "data": {
      "text/plain": [
       "dict_keys([b'filenames', b'batch_label', b'fine_labels', b'coarse_labels', b'data'])"
      ]
     },
     "execution_count": 79,
     "metadata": {},
     "output_type": "execute_result"
    }
   ],
   "source": [
    "# Feel free to explore the datasets\n",
    "\n",
    "dataset_train.keys()"
   ]
  },
  {
   "cell_type": "markdown",
   "metadata": {},
   "source": [
    "As documented on the homepage, `b'data'` contains rows of 3073 unsigned integers, representing three channels (red, green, and blue) for one 32x32 pixel image per row."
   ]
  },
  {
   "cell_type": "code",
   "execution_count": null,
   "metadata": {},
   "outputs": [],
   "source": [
    "32*32*3"
   ]
  },
  {
   "cell_type": "markdown",
   "metadata": {},
   "source": [
    "For a simple gut-check, let's transform one of our images. Each 1024 items in a row is a channel (red, green, then blue). Each 32 items in the channel are a row in the 32x32 image. Using python, we can stack these channels into a 32x32x3 array, and save it as a PNG file:"
   ]
  },
  {
   "cell_type": "code",
   "execution_count": 80,
   "metadata": {},
   "outputs": [],
   "source": [
    "import numpy as np\n",
    "\n",
    "# Each 1024 in a row is a channel (red, green, then blue)\n",
    "row = dataset_train[b'data'][0]\n",
    "red, green, blue = row[0:1024], row[1024:2048], row[2048:]\n",
    "\n",
    "# Each 32 items in the channel are a row in the 32x32 image\n",
    "red = red.reshape(32,32)\n",
    "green = green.reshape(32,32)\n",
    "blue = blue.reshape(32,32)\n",
    "\n",
    "# Combine the channels into a 32x32x3 image!\n",
    "combined = np.dstack((red,green,blue))"
   ]
  },
  {
   "cell_type": "markdown",
   "metadata": {},
   "source": [
    "For a more concise version, consider the following:"
   ]
  },
  {
   "cell_type": "code",
   "execution_count": 81,
   "metadata": {},
   "outputs": [],
   "source": [
    "# All in one:\n",
    "test_image = np.dstack((\n",
    "    row[0:1024].reshape(32,32),\n",
    "    row[1024:2048].reshape(32,32),\n",
    "    row[2048:].reshape(32,32)\n",
    "))"
   ]
  },
  {
   "cell_type": "code",
   "execution_count": 82,
   "metadata": {},
   "outputs": [
    {
     "data": {
      "image/png": "[encoded data removed]",
      "text/plain": [
       "<Figure size 640x480 with 1 Axes>"
      ]
     },
     "metadata": {},
     "output_type": "display_data"
    }
   ],
   "source": [
    "import matplotlib.pyplot as plt\n",
    "plt.imshow(test_image);"
   ]
  },
  {
   "cell_type": "markdown",
   "metadata": {},
   "source": [
    "Looks like a cow! Let's check the label. `dataset_meta` contains label names in order, and `dataset_train` has a list of labels for each row."
   ]
  },
  {
   "cell_type": "code",
   "execution_count": 83,
   "metadata": {},
   "outputs": [
    {
     "data": {
      "text/plain": [
       "19"
      ]
     },
     "execution_count": 83,
     "metadata": {},
     "output_type": "execute_result"
    }
   ],
   "source": [
    "dataset_train[b'fine_labels'][0]"
   ]
  },
  {
   "cell_type": "markdown",
   "metadata": {},
   "source": [
    "Our image has a label of `19`, so let's see what the 19th item is in the list of label names."
   ]
  },
  {
   "cell_type": "code",
   "execution_count": 84,
   "metadata": {},
   "outputs": [
    {
     "name": "stdout",
     "output_type": "stream",
     "text": [
      "b'cattle'\n"
     ]
    }
   ],
   "source": [
    "print(dataset_meta[b'fine_label_names'][19])"
   ]
  },
  {
   "cell_type": "markdown",
   "metadata": {},
   "source": [
    "Ok! 'cattle' sounds about right. By the way, using the previous two lines we can do:"
   ]
  },
  {
   "cell_type": "code",
   "execution_count": 85,
   "metadata": {},
   "outputs": [
    {
     "name": "stdout",
     "output_type": "stream",
     "text": [
      "b'cattle'\n"
     ]
    }
   ],
   "source": [
    "n = 0\n",
    "print(dataset_meta[b'fine_label_names'][dataset_train[b'fine_labels'][n]])"
   ]
  },
  {
   "cell_type": "markdown",
   "metadata": {},
   "source": [
    "Now we know how to check labels, is there a way that we can also check file names? `dataset_train` also contains a `b'filenames'` key. Let's see what we have here:"
   ]
  },
  {
   "cell_type": "code",
   "execution_count": 40,
   "metadata": {},
   "outputs": [
    {
     "name": "stdout",
     "output_type": "stream",
     "text": [
      "b'bos_taurus_s_000507.png'\n"
     ]
    }
   ],
   "source": [
    "print(dataset_train[b'filenames'][0])"
   ]
  },
  {
   "cell_type": "markdown",
   "metadata": {},
   "source": [
    "\"Taurus\" is the name of a subspecies of cattle, so this looks like a pretty reasonable filename. To save an image we can also do:"
   ]
  },
  {
   "cell_type": "code",
   "execution_count": 86,
   "metadata": {},
   "outputs": [],
   "source": [
    "plt.imsave(\"file.png\", test_image)"
   ]
  },
  {
   "cell_type": "markdown",
   "metadata": {},
   "source": [
    "Your new PNG file should now appear in the file explorer -- go ahead and pop it open to see!\n",
    "\n",
    "Now that you know how to reshape the images, save them as files, and capture their filenames and labels, let's just capture all the bicycles and motorcycles and save them. Scones Unlimited can use a model that tells these apart to route delivery drivers automatically.\n",
    "\n",
    "In the following cell, identify the label numbers for Bicycles and Motorcycles:"
   ]
  },
  {
   "cell_type": "code",
   "execution_count": 87,
   "metadata": {},
   "outputs": [
    {
     "name": "stdout",
     "output_type": "stream",
     "text": [
      "bicycle_label:8, motorcycle_label:48\n"
     ]
    }
   ],
   "source": [
    "import pandas as pd\n",
    "\n",
    "# Todo: Filter the dataset_train and dataset_meta objects to find the label numbers for Bicycle and Motorcycles\n",
    "bicycle_label = dataset_meta[b'fine_label_names'].index(b'bicycle')\n",
    "motorcycle_label = dataset_meta[b'fine_label_names'].index(b'motorcycle')\n",
    "print(f\"bicycle_label:{bicycle_label}, motorcycle_label:{motorcycle_label}\")\n"
   ]
  },
  {
   "cell_type": "markdown",
   "metadata": {},
   "source": [
    "Good job! We only need objects with label 8 and 48 -- this drastically simplifies our handling of the data! Below we construct a dataframe for you, and you can safely drop the rows that don't contain observations about bicycles and motorcycles. Fill in the missing lines below to drop all other rows:"
   ]
  },
  {
   "cell_type": "code",
   "execution_count": 90,
   "metadata": {},
   "outputs": [],
   "source": [
    "#Construct the dataframe\n",
    "df_train = pd.DataFrame({\n",
    "    \"filenames\": dataset_train[b'filenames'],\n",
    "    \"labels\": dataset_train[b'fine_labels'],\n",
    "    \"row\": range(len(dataset_train[b'filenames']))\n",
    "})\n",
    "\n",
    "# Drop all rows from df_train where label is not 8 or 48\n",
    "df_train = df_train[(df_train[\"labels\"] ==8) | (df_train[\"labels\"]== 48)]\n",
    "\n",
    "# Decode df_train.filenames so they are regular strings\n",
    "df_train[\"filenames\"] = df_train[\"filenames\"].apply(\n",
    "    lambda x: x.decode(\"utf-8\")\n",
    ")\n",
    "\n",
    "\n",
    "df_test = pd.DataFrame({\n",
    "    \"filenames\": dataset_test[b'filenames'],\n",
    "    \"labels\": dataset_test[b'fine_labels'],\n",
    "    \"row\": range(len(dataset_test[b'filenames']))\n",
    "})\n",
    "\n",
    "# Drop all rows from df_test where label is not 8 or 48\n",
    "df_test = df_test[(df_test[\"labels\"]==8) | (df_test[\"labels\"]==48)]\n",
    "\n",
    "# Decode df_test.filenames so they are regular strings\n",
    "df_test[\"filenames\"] = df_test[\"filenames\"].apply(\n",
    "    lambda x: x.decode(\"utf-8\")\n",
    ")"
   ]
  },
  {
   "cell_type": "markdown",
   "metadata": {},
   "source": [
    "Now that the data is filtered for just our classes, we can save all our images."
   ]
  },
  {
   "cell_type": "code",
   "execution_count": 91,
   "metadata": {},
   "outputs": [],
   "source": [
    "!mkdir ./train\n",
    "!mkdir ./test"
   ]
  },
  {
   "cell_type": "code",
   "execution_count": 92,
   "metadata": {},
   "outputs": [
    {
     "data": {
      "text/plain": [
       "(50000, 3072)"
      ]
     },
     "execution_count": 92,
     "metadata": {},
     "output_type": "execute_result"
    }
   ],
   "source": [
    "dataset_train[b'data'].shape"
   ]
  },
  {
   "cell_type": "markdown",
   "metadata": {},
   "source": [
    "In the previous sections we introduced you to several key snippets of code:\n",
    "\n",
    "1. Grabbing the image data:\n",
    "\n",
    "```python\n",
    "dataset_train[b'data'][0]\n",
    "```\n",
    "\n",
    "2. A simple idiom for stacking the image data into the right shape\n",
    "\n",
    "```python\n",
    "import numpy as np\n",
    "np.dstack((\n",
    "    row[0:1024].reshape(32,32),\n",
    "    row[1024:2048].reshape(32,32),\n",
    "    row[2048:].reshape(32,32)\n",
    "))\n",
    "```\n",
    "\n",
    "3. A simple `matplotlib` utility for saving images\n",
    "\n",
    "```python\n",
    "plt.imsave(path+row['filenames'], target)\n",
    "```\n",
    "\n",
    "Compose these together into a function that saves all the images into the `./test` and `./train` directories. Use the comments in the body of the `save_images` function below to guide your construction of the function:\n"
   ]
  },
  {
   "cell_type": "code",
   "execution_count": 73,
   "metadata": {},
   "outputs": [
    {
     "ename": "AttributeError",
     "evalue": "'str' object has no attribute 'dtype'",
     "output_type": "error",
     "traceback": [
      "\u001b[0;31m---------------------------------------------------------------------------\u001b[0m",
      "\u001b[0;31mAttributeError\u001b[0m                            Traceback (most recent call last)",
      "Cell \u001b[0;32mIn[73], line 1\u001b[0m\n\u001b[0;32m----> 1\u001b[0m \u001b[43mdf_train\u001b[49m\u001b[43m[\u001b[49m\u001b[38;5;124;43m\"\u001b[39;49m\u001b[38;5;124;43mfilenames\u001b[39;49m\u001b[38;5;124;43m\"\u001b[39;49m\u001b[43m]\u001b[49m\u001b[43m[\u001b[49m\u001b[38;5;241;43m0\u001b[39;49m\u001b[43m]\u001b[49m\u001b[38;5;241;43m.\u001b[39;49m\u001b[43mdtype\u001b[49m\n",
      "\u001b[0;31mAttributeError\u001b[0m: 'str' object has no attribute 'dtype'"
     ]
    }
   ],
   "source": [
    "df_train[\"filenames\"][0]"
   ]
  },
  {
   "cell_type": "code",
   "execution_count": 93,
   "metadata": {},
   "outputs": [
    {
     "data": {
      "text/plain": [
       "True"
      ]
     },
     "execution_count": 93,
     "metadata": {},
     "output_type": "execute_result"
    }
   ],
   "source": [
    "import numpy as np\n",
    "import os\n",
    "def save_images(input_dataframe,input_dataset,output_folder):\n",
    "    input_data = input_dataset[b'data']\n",
    "    for row_idx,row in input_dataframe.iterrows():\n",
    "        row_idx = row[\"row\"]\n",
    "        #Grab the image data in row-major form\n",
    "        img = input_data[row_idx]\n",
    "        filename = row[\"filenames\"]\n",
    "        # Consolidated stacking/reshaping from earlier\n",
    "        target = np.dstack((\n",
    "                img[0:1024].reshape(32,32),\n",
    "                img[1024:2048].reshape(32,32),\n",
    "                img[2048:].reshape(32,32)\n",
    "        ))\n",
    "        \n",
    "        # Save the image\n",
    "        plt.imsave(os.path.join(output_folder,filename), target)\n",
    "        \n",
    "        # Return any signal data you want for debugging\n",
    "    return True\n",
    "\n",
    "## TODO: save ALL images using the save_images function\n",
    "save_images(df_train,dataset_train,\"train\")\n",
    "save_images(df_test,dataset_test,\"test\")"
   ]
  },
  {
   "cell_type": "markdown",
   "metadata": {},
   "source": [
    "### 3. Load the data\n",
    "\n",
    "Now we can load the data into S3.\n",
    "\n",
    "Using the sagemaker SDK grab the current region, execution role, and bucket."
   ]
  },
  {
   "cell_type": "code",
   "execution_count": 95,
   "metadata": {},
   "outputs": [
    {
     "name": "stderr",
     "output_type": "stream",
     "text": [
      "/opt/conda/lib/python3.11/site-packages/pydantic/_internal/_fields.py:192: UserWarning: Field name \"json\" in \"MonitoringDatasetFormat\" shadows an attribute in parent \"Base\"\n",
      "  warnings.warn(\n"
     ]
    },
    {
     "name": "stdout",
     "output_type": "stream",
     "text": [
      "sagemaker.config INFO - Not applying SDK defaults from location: /etc/xdg/sagemaker/config.yaml\n",
      "sagemaker.config INFO - Not applying SDK defaults from location: /home/sagemaker-user/.config/sagemaker/config.yaml\n",
      "Default Bucket: cifar-bucket-ck\n",
      "AWS Region: us-east-1\n",
      "RoleArn: arn:aws:iam::324639124031:role/service-role/AmazonSageMaker-ExecutionRole-20250302T230313\n"
     ]
    }
   ],
   "source": [
    "import sagemaker\n",
    "\n",
    "\n",
    "bucket= \"cifar-bucket-ck\"\n",
    "print(\"Default Bucket: {}\".format(bucket))\n",
    "\n",
    "region = \"us-east-1\"\n",
    "print(\"AWS Region: {}\".format(region))\n",
    "\n",
    "role = \"arn:aws:iam::324639124031:role/service-role/AmazonSageMaker-ExecutionRole-20250302T230313\"\n",
    "print(\"RoleArn: {}\".format(role))"
   ]
  },
  {
   "cell_type": "markdown",
   "metadata": {},
   "source": [
    "With this data we can easily sync your data up into S3!"
   ]
  },
  {
   "cell_type": "code",
   "execution_count": 98,
   "metadata": {},
   "outputs": [],
   "source": [
    "import os\n",
    "\n",
    "os.environ[\"DEFAULT_S3_BUCKET\"] = bucket\n",
    "!aws s3 sync ./train s3://${DEFAULT_S3_BUCKET}/train/\n",
    "!aws s3 sync ./test s3://${DEFAULT_S3_BUCKET}/test/"
   ]
  },
  {
   "cell_type": "markdown",
   "metadata": {},
   "source": [
    "And that's it! You can check the bucket and verify that the items were uploaded.\n",
    "\n",
    "## Model Training\n",
    "\n",
    "For Image Classification, Sagemaker [also expects metadata](https://docs.aws.amazon.com/sagemaker/latest/dg/image-classification.html) e.g. in the form of TSV files with labels and filepaths. We can generate these using our Pandas DataFrames from earlier:"
   ]
  },
  {
   "cell_type": "code",
   "execution_count": 99,
   "metadata": {},
   "outputs": [],
   "source": [
    "def to_metadata_file(df, prefix):\n",
    "    df[\"s3_path\"] = df[\"filenames\"]\n",
    "    df[\"labels\"] = df[\"labels\"].apply(lambda x: 0 if x==8 else 1)\n",
    "    return df[[\"row\", \"labels\", \"s3_path\"]].to_csv(\n",
    "        f\"{prefix}.lst\", sep=\"\\t\", index=False, header=False\n",
    "    )\n",
    "    \n",
    "to_metadata_file(df_train.copy(), \"train\")\n",
    "to_metadata_file(df_test.copy(), \"test\")"
   ]
  },
  {
   "cell_type": "markdown",
   "metadata": {},
   "source": [
    "We can also upload our manifest files:"
   ]
  },
  {
   "cell_type": "code",
   "execution_count": 100,
   "metadata": {},
   "outputs": [],
   "source": [
    "import boto3\n",
    "\n",
    "# Upload files\n",
    "boto3.Session().resource('s3').Bucket(\n",
    "    bucket).Object('train.lst').upload_file('./train.lst')\n",
    "boto3.Session().resource('s3').Bucket(\n",
    "    bucket).Object('test.lst').upload_file('./test.lst')"
   ]
  },
  {
   "cell_type": "markdown",
   "metadata": {},
   "source": [
    "Using the `bucket` and `region` info we can get the latest prebuilt container to run our training job, and define an output location on our s3 bucket for the model. Use the `image_uris` function from the SageMaker SDK to retrieve the latest `image-classification` image below:"
   ]
  },
  {
   "cell_type": "code",
   "execution_count": 103,
   "metadata": {},
   "outputs": [
    {
     "data": {
      "text/html": [
       "<pre style=\"white-space:pre;overflow-x:auto;line-height:normal;font-family:Menlo,'DejaVu Sans Mono',consolas,'Courier New',monospace\"><span style=\"color: #7fbfbf; text-decoration-color: #7fbfbf\">[03/16/25 18:29:45] </span><span style=\"color: #0069ff; text-decoration-color: #0069ff; font-weight: bold\">INFO    </span> Same images used for training and inference. Defaulting to image     <a href=\"file:///opt/conda/lib/python3.11/site-packages/sagemaker/image_uris.py\" target=\"_blank\"><span style=\"color: #7f7f7f; text-decoration-color: #7f7f7f\">image_uris.py</span></a><span style=\"color: #7f7f7f; text-decoration-color: #7f7f7f\">:</span><a href=\"file:///opt/conda/lib/python3.11/site-packages/sagemaker/image_uris.py#393\" target=\"_blank\"><span style=\"color: #7f7f7f; text-decoration-color: #7f7f7f\">393</span></a>\n",
       "<span style=\"color: #7fbfbf; text-decoration-color: #7fbfbf\">                    </span>         scope: inference.                                                    <span style=\"color: #7f7f7f; text-decoration-color: #7f7f7f\">                 </span>\n",
       "</pre>\n"
      ],
      "text/plain": [
       "\u001b[2;36m[03/16/25 18:29:45]\u001b[0m\u001b[2;36m \u001b[0m\u001b[1;38;2;0;105;255mINFO    \u001b[0m Same images used for training and inference. Defaulting to image     \u001b]8;id=188227;file:///opt/conda/lib/python3.11/site-packages/sagemaker/image_uris.py\u001b\\\u001b[2mimage_uris.py\u001b[0m\u001b]8;;\u001b\\\u001b[2m:\u001b[0m\u001b]8;id=986598;file:///opt/conda/lib/python3.11/site-packages/sagemaker/image_uris.py#393\u001b\\\u001b[2m393\u001b[0m\u001b]8;;\u001b\\\n",
       "\u001b[2;36m                    \u001b[0m         scope: inference.                                                    \u001b[2m                 \u001b[0m\n"
      ]
     },
     "metadata": {},
     "output_type": "display_data"
    },
    {
     "data": {
      "text/html": [
       "<pre style=\"white-space:pre;overflow-x:auto;line-height:normal;font-family:Menlo,'DejaVu Sans Mono',consolas,'Courier New',monospace\"><span style=\"color: #7fbfbf; text-decoration-color: #7fbfbf\">                    </span><span style=\"color: #0069ff; text-decoration-color: #0069ff; font-weight: bold\">INFO    </span> Ignoring unnecessary instance type: <span style=\"color: #e100e1; text-decoration-color: #e100e1; font-style: italic\">None</span>.                            <a href=\"file:///opt/conda/lib/python3.11/site-packages/sagemaker/image_uris.py\" target=\"_blank\"><span style=\"color: #7f7f7f; text-decoration-color: #7f7f7f\">image_uris.py</span></a><span style=\"color: #7f7f7f; text-decoration-color: #7f7f7f\">:</span><a href=\"file:///opt/conda/lib/python3.11/site-packages/sagemaker/image_uris.py#530\" target=\"_blank\"><span style=\"color: #7f7f7f; text-decoration-color: #7f7f7f\">530</span></a>\n",
       "</pre>\n"
      ],
      "text/plain": [
       "\u001b[2;36m                   \u001b[0m\u001b[2;36m \u001b[0m\u001b[1;38;2;0;105;255mINFO    \u001b[0m Ignoring unnecessary instance type: \u001b[3;38;2;225;0;225mNone\u001b[0m.                            \u001b]8;id=477494;file:///opt/conda/lib/python3.11/site-packages/sagemaker/image_uris.py\u001b\\\u001b[2mimage_uris.py\u001b[0m\u001b]8;;\u001b\\\u001b[2m:\u001b[0m\u001b]8;id=968768;file:///opt/conda/lib/python3.11/site-packages/sagemaker/image_uris.py#530\u001b\\\u001b[2m530\u001b[0m\u001b]8;;\u001b\\\n"
      ]
     },
     "metadata": {},
     "output_type": "display_data"
    }
   ],
   "source": [
    "# Use the image_uris function to retrieve the latest 'image-classification' image \n",
    "from sagemaker import image_uris\n",
    "\n",
    "algo_image = image_uris.retrieve(\"image-classification\", region, version=\"latest\")\n",
    "s3_output_location = f\"s3://{bucket}/models/image_model\""
   ]
  },
  {
   "cell_type": "markdown",
   "metadata": {},
   "source": [
    "We're ready to create an estimator! Create an estimator `img_classifier_model` that uses one instance of `ml.p3.2xlarge`. Ensure that y ou use the output location we defined above - we'll be referring to that later!"
   ]
  },
  {
   "cell_type": "code",
   "execution_count": 109,
   "metadata": {},
   "outputs": [],
   "source": [
    "sess= sagemaker.Session()\n",
    "img_classifier_model=sagemaker.estimator.Estimator(\n",
    "    ## TODO: define your estimator options    \n",
    "    algo_image,\n",
    "    role,\n",
    "    instance_count=1,\n",
    "    instance_type=\"ml.p3.2xlarge\",\n",
    "    volume_size=50,\n",
    "    max_run=360000,\n",
    "    input_mode=\"File\",\n",
    "    output_path=s3_output_location,\n",
    "    sagemaker_session=sess,\n",
    ")"
   ]
  },
  {
   "cell_type": "code",
   "execution_count": 111,
   "metadata": {},
   "outputs": [
    {
     "data": {
      "text/html": [
       "<div>\n",
       "<style scoped>\n",
       "    .dataframe tbody tr th:only-of-type {\n",
       "        vertical-align: middle;\n",
       "    }\n",
       "\n",
       "    .dataframe tbody tr th {\n",
       "        vertical-align: top;\n",
       "    }\n",
       "\n",
       "    .dataframe thead th {\n",
       "        text-align: right;\n",
       "    }\n",
       "</style>\n",
       "<table border=\"1\" class=\"dataframe\">\n",
       "  <thead>\n",
       "    <tr style=\"text-align: right;\">\n",
       "      <th></th>\n",
       "      <th>filenames</th>\n",
       "      <th>labels</th>\n",
       "      <th>row</th>\n",
       "    </tr>\n",
       "  </thead>\n",
       "  <tbody>\n",
       "    <tr>\n",
       "      <th>16</th>\n",
       "      <td>bike_s_000682.png</td>\n",
       "      <td>8</td>\n",
       "      <td>16</td>\n",
       "    </tr>\n",
       "    <tr>\n",
       "      <th>30</th>\n",
       "      <td>bike_s_000127.png</td>\n",
       "      <td>8</td>\n",
       "      <td>30</td>\n",
       "    </tr>\n",
       "    <tr>\n",
       "      <th>130</th>\n",
       "      <td>cycle_s_002598.png</td>\n",
       "      <td>8</td>\n",
       "      <td>130</td>\n",
       "    </tr>\n",
       "    <tr>\n",
       "      <th>152</th>\n",
       "      <td>minibike_s_000824.png</td>\n",
       "      <td>48</td>\n",
       "      <td>152</td>\n",
       "    </tr>\n",
       "    <tr>\n",
       "      <th>195</th>\n",
       "      <td>motorcycle_s_001856.png</td>\n",
       "      <td>48</td>\n",
       "      <td>195</td>\n",
       "    </tr>\n",
       "  </tbody>\n",
       "</table>\n",
       "</div>"
      ],
      "text/plain": [
       "                   filenames  labels  row\n",
       "16         bike_s_000682.png       8   16\n",
       "30         bike_s_000127.png       8   30\n",
       "130       cycle_s_002598.png       8  130\n",
       "152    minibike_s_000824.png      48  152\n",
       "195  motorcycle_s_001856.png      48  195"
      ]
     },
     "execution_count": 111,
     "metadata": {},
     "output_type": "execute_result"
    }
   ],
   "source": [
    "df_train.head()"
   ]
  },
  {
   "cell_type": "markdown",
   "metadata": {},
   "source": [
    "We can also set a few key hyperparameters and define the inputs for our model:"
   ]
  },
  {
   "cell_type": "code",
   "execution_count": 112,
   "metadata": {},
   "outputs": [],
   "source": [
    "img_classifier_model.set_hyperparameters(\n",
    "    image_shape=\"3,32,32\",\n",
    "    num_classes=2, \n",
    "    num_training_samples= df_train.shape[0]\n",
    ")"
   ]
  },
  {
   "cell_type": "markdown",
   "metadata": {},
   "source": [
    "The `image-classification` image uses four input channels with very specific input parameters. For convenience, we've provided them below:"
   ]
  },
  {
   "cell_type": "code",
   "execution_count": 113,
   "metadata": {},
   "outputs": [],
   "source": [
    "from sagemaker.debugger import Rule, rule_configs\n",
    "from sagemaker.session import TrainingInput\n",
    "model_inputs = {\n",
    "        \"train\": sagemaker.inputs.TrainingInput(\n",
    "            s3_data=f\"s3://{bucket}/train/\",\n",
    "            content_type=\"application/x-image\"\n",
    "        ),\n",
    "        \"validation\": sagemaker.inputs.TrainingInput(\n",
    "            s3_data=f\"s3://{bucket}/test/\",\n",
    "            content_type=\"application/x-image\"\n",
    "        ),\n",
    "        \"train_lst\": sagemaker.inputs.TrainingInput(\n",
    "            s3_data=f\"s3://{bucket}/train.lst\",\n",
    "            content_type=\"application/x-image\"\n",
    "        ),\n",
    "        \"validation_lst\": sagemaker.inputs.TrainingInput(\n",
    "            s3_data=f\"s3://{bucket}/test.lst\",\n",
    "            content_type=\"application/x-image\"\n",
    "        )\n",
    "}"
   ]
  },
  {
   "cell_type": "markdown",
   "metadata": {},
   "source": [
    "Great, now we can train the model using the model_inputs. In the cell below, call the `fit` method on our model,:"
   ]
  },
  {
   "cell_type": "code",
   "execution_count": 115,
   "metadata": {},
   "outputs": [
    {
     "data": {
      "text/html": [
       "<pre style=\"white-space:pre;overflow-x:auto;line-height:normal;font-family:Menlo,'DejaVu Sans Mono',consolas,'Courier New',monospace\"><span style=\"color: #7fbfbf; text-decoration-color: #7fbfbf\">[03/16/25 19:29:51] </span><span style=\"color: #0069ff; text-decoration-color: #0069ff; font-weight: bold\">INFO    </span> SageMaker Python SDK will collect telemetry to help us better  <a href=\"file:///opt/conda/lib/python3.11/site-packages/sagemaker/telemetry/telemetry_logging.py\" target=\"_blank\"><span style=\"color: #7f7f7f; text-decoration-color: #7f7f7f\">telemetry_logging.py</span></a><span style=\"color: #7f7f7f; text-decoration-color: #7f7f7f\">:</span><a href=\"file:///opt/conda/lib/python3.11/site-packages/sagemaker/telemetry/telemetry_logging.py#91\" target=\"_blank\"><span style=\"color: #7f7f7f; text-decoration-color: #7f7f7f\">91</span></a>\n",
       "<span style=\"color: #7fbfbf; text-decoration-color: #7fbfbf\">                    </span>         understand our user's needs, diagnose issues, and deliver      <span style=\"color: #7f7f7f; text-decoration-color: #7f7f7f\">                       </span>\n",
       "<span style=\"color: #7fbfbf; text-decoration-color: #7fbfbf\">                    </span>         additional features.                                           <span style=\"color: #7f7f7f; text-decoration-color: #7f7f7f\">                       </span>\n",
       "<span style=\"color: #7fbfbf; text-decoration-color: #7fbfbf\">                    </span>         To opt out of telemetry, please disable via TelemetryOptOut    <span style=\"color: #7f7f7f; text-decoration-color: #7f7f7f\">                       </span>\n",
       "<span style=\"color: #7fbfbf; text-decoration-color: #7fbfbf\">                    </span>         parameter in SDK defaults config. For more information, refer  <span style=\"color: #7f7f7f; text-decoration-color: #7f7f7f\">                       </span>\n",
       "<span style=\"color: #7fbfbf; text-decoration-color: #7fbfbf\">                    </span>         to                                                             <span style=\"color: #7f7f7f; text-decoration-color: #7f7f7f\">                       </span>\n",
       "<span style=\"color: #7fbfbf; text-decoration-color: #7fbfbf\">                    </span>         <span style=\"color: #0069ff; text-decoration-color: #0069ff; text-decoration: underline\">https://sagemaker.readthedocs.io/en/stable/overview.html#confi</span> <span style=\"color: #7f7f7f; text-decoration-color: #7f7f7f\">                       </span>\n",
       "<span style=\"color: #7fbfbf; text-decoration-color: #7fbfbf\">                    </span>         <span style=\"color: #0069ff; text-decoration-color: #0069ff; text-decoration: underline\">guring-and-using-defaults-with-the-sagemaker-python-sdk.</span>       <span style=\"color: #7f7f7f; text-decoration-color: #7f7f7f\">                       </span>\n",
       "</pre>\n"
      ],
      "text/plain": [
       "\u001b[2;36m[03/16/25 19:29:51]\u001b[0m\u001b[2;36m \u001b[0m\u001b[1;38;2;0;105;255mINFO    \u001b[0m SageMaker Python SDK will collect telemetry to help us better  \u001b]8;id=486057;file:///opt/conda/lib/python3.11/site-packages/sagemaker/telemetry/telemetry_logging.py\u001b\\\u001b[2mtelemetry_logging.py\u001b[0m\u001b]8;;\u001b\\\u001b[2m:\u001b[0m\u001b]8;id=861306;file:///opt/conda/lib/python3.11/site-packages/sagemaker/telemetry/telemetry_logging.py#91\u001b\\\u001b[2m91\u001b[0m\u001b]8;;\u001b\\\n",
       "\u001b[2;36m                    \u001b[0m         understand our user's needs, diagnose issues, and deliver      \u001b[2m                       \u001b[0m\n",
       "\u001b[2;36m                    \u001b[0m         additional features.                                           \u001b[2m                       \u001b[0m\n",
       "\u001b[2;36m                    \u001b[0m         To opt out of telemetry, please disable via TelemetryOptOut    \u001b[2m                       \u001b[0m\n",
       "\u001b[2;36m                    \u001b[0m         parameter in SDK defaults config. For more information, refer  \u001b[2m                       \u001b[0m\n",
       "\u001b[2;36m                    \u001b[0m         to                                                             \u001b[2m                       \u001b[0m\n",
       "\u001b[2;36m                    \u001b[0m         \u001b[4;38;2;0;105;255mhttps://sagemaker.readthedocs.io/en/stable/overview.html#confi\u001b[0m \u001b[2m                       \u001b[0m\n",
       "\u001b[2;36m                    \u001b[0m         \u001b[4;38;2;0;105;255mguring-and-using-defaults-with-the-sagemaker-python-sdk.\u001b[0m       \u001b[2m                       \u001b[0m\n"
      ]
     },
     "metadata": {},
     "output_type": "display_data"
    },
    {
     "data": {
      "text/html": [
       "<pre style=\"white-space:pre;overflow-x:auto;line-height:normal;font-family:Menlo,'DejaVu Sans Mono',consolas,'Courier New',monospace\"><span style=\"color: #7fbfbf; text-decoration-color: #7fbfbf\">                    </span><span style=\"color: #0069ff; text-decoration-color: #0069ff; font-weight: bold\">INFO    </span> Creating training-job with name:                                       <a href=\"file:///opt/conda/lib/python3.11/site-packages/sagemaker/session.py\" target=\"_blank\"><span style=\"color: #7f7f7f; text-decoration-color: #7f7f7f\">session.py</span></a><span style=\"color: #7f7f7f; text-decoration-color: #7f7f7f\">:</span><a href=\"file:///opt/conda/lib/python3.11/site-packages/sagemaker/session.py#1042\" target=\"_blank\"><span style=\"color: #7f7f7f; text-decoration-color: #7f7f7f\">1042</span></a>\n",
       "<span style=\"color: #7fbfbf; text-decoration-color: #7fbfbf\">                    </span>         image-classification-<span style=\"color: #008080; text-decoration-color: #008080; font-weight: bold\">2025</span>-03-16-19-29-51-929                           <span style=\"color: #7f7f7f; text-decoration-color: #7f7f7f\">               </span>\n",
       "</pre>\n"
      ],
      "text/plain": [
       "\u001b[2;36m                   \u001b[0m\u001b[2;36m \u001b[0m\u001b[1;38;2;0;105;255mINFO    \u001b[0m Creating training-job with name:                                       \u001b]8;id=980184;file:///opt/conda/lib/python3.11/site-packages/sagemaker/session.py\u001b\\\u001b[2msession.py\u001b[0m\u001b]8;;\u001b\\\u001b[2m:\u001b[0m\u001b]8;id=52954;file:///opt/conda/lib/python3.11/site-packages/sagemaker/session.py#1042\u001b\\\u001b[2m1042\u001b[0m\u001b]8;;\u001b\\\n",
       "\u001b[2;36m                    \u001b[0m         image-classification-\u001b[1;36m2025\u001b[0m-03-16-19-29-51-929                           \u001b[2m               \u001b[0m\n"
      ]
     },
     "metadata": {},
     "output_type": "display_data"
    },
    {
     "name": "stdout",
     "output_type": "stream",
     "text": [
      "2025-03-16 19:29:52 Starting - Starting the training job\n",
      ".....03-16 19:29:52 Pending - Training job waiting for capacity.\n",
      "..25-03-16 19:30:48 Pending - Preparing the instances for training.\n",
      "..25-03-16 19:31:17 Downloading - Downloading input data.\n",
      ".................41 Downloading - Downloading the training image.\n",
      "..\u001b[34mDocker entrypoint called with argument(s): train\u001b[0mleted. Training in progress..\n",
      "\u001b[34mRunning default environment configuration script\u001b[0m\n",
      "\u001b[34mNvidia gpu devices, drivers and cuda toolkit versions (only available on hosts with GPU):\u001b[0m\n",
      "\u001b[34mSun Mar 16 19:35:11 2025       \u001b[0m\n",
      "\u001b[34m+-----------------------------------------------------------------------------------------+\u001b[0m\n",
      "\u001b[34m| NVIDIA-SMI 550.144.03             Driver Version: 550.144.03     CUDA Version: 12.4     |\u001b[0m\n",
      "\u001b[34m|-----------------------------------------+------------------------+----------------------+\u001b[0m\n",
      "\u001b[34m| GPU  Name                 Persistence-M | Bus-Id          Disp.A | Volatile Uncorr. ECC |\u001b[0m\n",
      "\u001b[34m| Fan  Temp   Perf          Pwr:Usage/Cap |           Memory-Usage | GPU-Util  Compute M. |\u001b[0m\n",
      "\u001b[34m|                                         |                        |               MIG M. |\u001b[0m\n",
      "\u001b[34m|=========================================+========================+======================|\u001b[0m\n",
      "\u001b[34m|   0  Tesla V100-SXM2-16GB           On  |   00000000:00:1E.0 Off |                    0 |\u001b[0m\n",
      "\u001b[34m| N/A   35C    P0             24W /  300W |       1MiB /  16384MiB |      0%      Default |\u001b[0m\n",
      "\u001b[34m|                                         |                        |                  N/A |\u001b[0m\n",
      "\u001b[34m+-----------------------------------------+------------------------+----------------------+\n",
      "                                                                                         \u001b[0m\n",
      "\u001b[34m+-----------------------------------------------------------------------------------------+\u001b[0m\n",
      "\u001b[34m| Processes:                                                                              |\u001b[0m\n",
      "\u001b[34m|  GPU   GI   CI        PID   Type   Process name                              GPU Memory |\u001b[0m\n",
      "\u001b[34m|        ID   ID                                                               Usage      |\u001b[0m\n",
      "\u001b[34m|=========================================================================================|\u001b[0m\n",
      "\u001b[34m|  No running processes found                                                             |\u001b[0m\n",
      "\u001b[34m+-----------------------------------------------------------------------------------------+\u001b[0m\n",
      "\u001b[34mChecking for nvidia driver and cuda compatibility.\u001b[0m\n",
      "\u001b[34mCUDA Compatibility driver provided.\u001b[0m\n",
      "\u001b[34mProceeding with compatibility check between driver, cuda-toolkit and cuda-compat.\u001b[0m\n",
      "\u001b[34mDetected cuda-toolkit version: 11.1.\u001b[0m\n",
      "\u001b[34mDetected cuda-compat version: 455.32.00.\u001b[0m\n",
      "\u001b[34mDetected Nvidia driver version: 550.144.03.\u001b[0m\n",
      "\u001b[34mNvidia driver compatible with cuda-toolkit. Disabling cuda-compat.\u001b[0m\n",
      "\u001b[34m/opt/amazon/lib/python3.8/site-packages/mxnet/model.py:97: SyntaxWarning: \"is\" with a literal. Did you mean \"==\"?\n",
      "  if num_device is 1 and 'dist' not in kvstore:\u001b[0m\n",
      "\u001b[34m[03/16/2025 19:35:15 INFO 139741129021248] Reading default configuration from /opt/amazon/lib/python3.8/site-packages/image_classification/default-input.json: {'use_pretrained_model': 0, 'num_layers': 152, 'epochs': 30, 'learning_rate': 0.1, 'lr_scheduler_factor': 0.1, 'optimizer': 'sgd', 'momentum': 0, 'weight_decay': 0.0001, 'beta_1': 0.9, 'beta_2': 0.999, 'eps': 1e-08, 'gamma': 0.9, 'mini_batch_size': 32, 'image_shape': '3,224,224', 'precision_dtype': 'float32'}\u001b[0m\n",
      "\u001b[34m[03/16/2025 19:35:15 INFO 139741129021248] Merging with provided configuration from /opt/ml/input/config/hyperparameters.json: {'image_shape': '3,32,32', 'num_classes': '2', 'num_training_samples': '1000'}\u001b[0m\n",
      "\u001b[34m[03/16/2025 19:35:15 INFO 139741129021248] Final configuration: {'use_pretrained_model': 0, 'num_layers': 152, 'epochs': 30, 'learning_rate': 0.1, 'lr_scheduler_factor': 0.1, 'optimizer': 'sgd', 'momentum': 0, 'weight_decay': 0.0001, 'beta_1': 0.9, 'beta_2': 0.999, 'eps': 1e-08, 'gamma': 0.9, 'mini_batch_size': 32, 'image_shape': '3,32,32', 'precision_dtype': 'float32', 'num_classes': '2', 'num_training_samples': '1000'}\u001b[0m\n",
      "\u001b[34m[03/16/2025 19:35:15 INFO 139741129021248] Searching for .lst files in /opt/ml/input/data/train_lst.\u001b[0m\n",
      "\u001b[34m[03/16/2025 19:35:15 INFO 139741129021248] Creating record files for train.lst\u001b[0m\n",
      "\u001b[34m[03/16/2025 19:35:15 INFO 139741129021248] Done creating record files...\u001b[0m\n",
      "\u001b[34m[03/16/2025 19:35:15 INFO 139741129021248] Searching for .lst files in /opt/ml/input/data/validation_lst.\u001b[0m\n",
      "\u001b[34m[03/16/2025 19:35:15 INFO 139741129021248] Creating record files for test.lst\u001b[0m\n",
      "\u001b[34m[03/16/2025 19:35:15 INFO 139741129021248] Done creating record files...\u001b[0m\n",
      "\u001b[34m[03/16/2025 19:35:15 INFO 139741129021248] use_pretrained_model: 0\u001b[0m\n",
      "\u001b[34m[03/16/2025 19:35:15 INFO 139741129021248] multi_label: 0\u001b[0m\n",
      "\u001b[34m[03/16/2025 19:35:15 INFO 139741129021248] Performing random weight initialization\u001b[0m\n",
      "\u001b[34m[03/16/2025 19:35:15 INFO 139741129021248] ---- Parameters ----\u001b[0m\n",
      "\u001b[34m[03/16/2025 19:35:15 INFO 139741129021248] num_layers: 152\u001b[0m\n",
      "\u001b[34m[03/16/2025 19:35:15 INFO 139741129021248] data type: <class 'numpy.float32'>\u001b[0m\n",
      "\u001b[34m[03/16/2025 19:35:15 INFO 139741129021248] epochs: 30\u001b[0m\n",
      "\u001b[34m[03/16/2025 19:35:15 INFO 139741129021248] optimizer: sgd\u001b[0m\n",
      "\u001b[34m[03/16/2025 19:35:15 INFO 139741129021248] momentum: 0.9\u001b[0m\n",
      "\u001b[34m[03/16/2025 19:35:15 INFO 139741129021248] weight_decay: 0.0001\u001b[0m\n",
      "\u001b[34m[03/16/2025 19:35:15 INFO 139741129021248] learning_rate: 0.1\u001b[0m\n",
      "\u001b[34m[03/16/2025 19:35:15 INFO 139741129021248] num_training_samples: 1000\u001b[0m\n",
      "\u001b[34m[03/16/2025 19:35:15 INFO 139741129021248] mini_batch_size: 32\u001b[0m\n",
      "\u001b[34m[03/16/2025 19:35:15 INFO 139741129021248] image_shape: 3,32,32\u001b[0m\n",
      "\u001b[34m[03/16/2025 19:35:15 INFO 139741129021248] num_classes: 2\u001b[0m\n",
      "\u001b[34m[03/16/2025 19:35:15 INFO 139741129021248] augmentation_type: None\u001b[0m\n",
      "\u001b[34m[03/16/2025 19:35:15 INFO 139741129021248] kv_store: device\u001b[0m\n",
      "\u001b[34m[03/16/2025 19:35:15 INFO 139741129021248] checkpoint_frequency not set, will store the best model\u001b[0m\n",
      "\u001b[34m[03/16/2025 19:35:15 INFO 139741129021248] --------------------\u001b[0m\n",
      "\u001b[34m/opt/amazon/python3.8/lib/python3.8/subprocess.py:848: RuntimeWarning: line buffering (buffering=1) isn't supported in binary mode, the default buffer size will be used\n",
      "  self.stdout = io.open(c2pread, 'rb', bufsize)\u001b[0m\n",
      "\u001b[34m[03/16/2025 19:35:15 INFO 139741129021248] Setting number of threads: 7\u001b[0m\n",
      "\u001b[34m[19:35:19] /opt/brazil-pkg-cache/packages/AIAlgorithmsMXNet/AIAlgorithmsMXNet-1.4.x_ecl_Cuda_11.1.x.441.0/AL2_x86_64/generic-flavor/src/src/operator/nn/./cudnn/./cudnn_algoreg-inl.h:97: Running performance tests to find the best convolution algorithm, this can take a while... (setting env variable MXNET_CUDNN_AUTOTUNE_DEFAULT to 0 to disable)\u001b[0m\n",
      "\u001b[34m[03/16/2025 19:35:25 INFO 139741129021248] Epoch[0] Batch [20]#011Speed: 121.085 samples/sec#011accuracy=0.604167\u001b[0m\n",
      "\u001b[34m[03/16/2025 19:35:26 INFO 139741129021248] Epoch[0] Train-accuracy=0.650202\u001b[0m\n",
      "\u001b[34m[03/16/2025 19:35:26 INFO 139741129021248] Epoch[0] Time cost=6.927\u001b[0m\n",
      "\u001b[34m[03/16/2025 19:35:27 INFO 139741129021248] Epoch[0] Validation-accuracy=0.526042\u001b[0m\n",
      "\u001b[34m[03/16/2025 19:35:27 INFO 139741129021248] Storing the best model with validation accuracy: 0.526042\u001b[0m\n",
      "\u001b[34m[03/16/2025 19:35:27 INFO 139741129021248] Saved checkpoint to \"/opt/ml/model/image-classification-0001.params\"\u001b[0m\n",
      "\u001b[34m[03/16/2025 19:35:31 INFO 139741129021248] Epoch[1] Batch [20]#011Speed: 187.825 samples/sec#011accuracy=0.721726\u001b[0m\n",
      "\u001b[34m[03/16/2025 19:35:32 INFO 139741129021248] Epoch[1] Train-accuracy=0.715726\u001b[0m\n",
      "\u001b[34m[03/16/2025 19:35:32 INFO 139741129021248] Epoch[1] Time cost=5.069\u001b[0m\n",
      "\u001b[34m[03/16/2025 19:35:33 INFO 139741129021248] Epoch[1] Validation-accuracy=0.770833\u001b[0m\n",
      "\u001b[34m[03/16/2025 19:35:33 INFO 139741129021248] Storing the best model with validation accuracy: 0.770833\u001b[0m\n",
      "\u001b[34m[03/16/2025 19:35:34 INFO 139741129021248] Saved checkpoint to \"/opt/ml/model/image-classification-0002.params\"\u001b[0m\n",
      "\u001b[34m[03/16/2025 19:35:37 INFO 139741129021248] Epoch[2] Batch [20]#011Speed: 187.784 samples/sec#011accuracy=0.718750\u001b[0m\n",
      "\u001b[34m[03/16/2025 19:35:39 INFO 139741129021248] Epoch[2] Train-accuracy=0.718750\u001b[0m\n",
      "\u001b[34m[03/16/2025 19:35:39 INFO 139741129021248] Epoch[2] Time cost=5.105\u001b[0m\n",
      "\u001b[34m[03/16/2025 19:35:39 INFO 139741129021248] Epoch[2] Validation-accuracy=0.791667\u001b[0m\n",
      "\u001b[34m[03/16/2025 19:35:40 INFO 139741129021248] Storing the best model with validation accuracy: 0.791667\u001b[0m\n",
      "\u001b[34m[03/16/2025 19:35:40 INFO 139741129021248] Saved checkpoint to \"/opt/ml/model/image-classification-0003.params\"\u001b[0m\n",
      "\u001b[34m[03/16/2025 19:35:43 INFO 139741129021248] Epoch[3] Batch [20]#011Speed: 188.581 samples/sec#011accuracy=0.732143\u001b[0m\n",
      "\u001b[34m[03/16/2025 19:35:45 INFO 139741129021248] Epoch[3] Train-accuracy=0.761089\u001b[0m\n",
      "\u001b[34m[03/16/2025 19:35:45 INFO 139741129021248] Epoch[3] Time cost=5.069\u001b[0m\n",
      "\u001b[34m[03/16/2025 19:35:46 INFO 139741129021248] Epoch[3] Validation-accuracy=0.799107\u001b[0m\n",
      "\u001b[34m[03/16/2025 19:35:46 INFO 139741129021248] Storing the best model with validation accuracy: 0.799107\u001b[0m\n",
      "\u001b[34m[03/16/2025 19:35:46 INFO 139741129021248] Saved checkpoint to \"/opt/ml/model/image-classification-0004.params\"\u001b[0m\n",
      "\u001b[34m[03/16/2025 19:35:50 INFO 139741129021248] Epoch[4] Batch [20]#011Speed: 185.670 samples/sec#011accuracy=0.800595\u001b[0m\n",
      "\u001b[34m[03/16/2025 19:35:51 INFO 139741129021248] Epoch[4] Train-accuracy=0.794355\u001b[0m\n",
      "\u001b[34m[03/16/2025 19:35:51 INFO 139741129021248] Epoch[4] Time cost=5.136\u001b[0m\n",
      "\u001b[34m[03/16/2025 19:35:52 INFO 139741129021248] Epoch[4] Validation-accuracy=0.770833\u001b[0m\n",
      "\u001b[34m[03/16/2025 19:35:56 INFO 139741129021248] Epoch[5] Batch [20]#011Speed: 185.015 samples/sec#011accuracy=0.818452\u001b[0m\n",
      "\u001b[34m[03/16/2025 19:35:57 INFO 139741129021248] Epoch[5] Train-accuracy=0.810484\u001b[0m\n",
      "\u001b[34m[03/16/2025 19:35:57 INFO 139741129021248] Epoch[5] Time cost=5.156\u001b[0m\n",
      "\u001b[34m[03/16/2025 19:35:58 INFO 139741129021248] Epoch[5] Validation-accuracy=0.812500\u001b[0m\n",
      "\u001b[34m[03/16/2025 19:35:58 INFO 139741129021248] Storing the best model with validation accuracy: 0.812500\u001b[0m\n",
      "\u001b[34m[03/16/2025 19:35:59 INFO 139741129021248] Saved checkpoint to \"/opt/ml/model/image-classification-0006.params\"\u001b[0m\n",
      "\u001b[34m[03/16/2025 19:36:02 INFO 139741129021248] Epoch[6] Batch [20]#011Speed: 184.240 samples/sec#011accuracy=0.822917\u001b[0m\n",
      "\u001b[34m[03/16/2025 19:36:04 INFO 139741129021248] Epoch[6] Train-accuracy=0.810484\u001b[0m\n",
      "\u001b[34m[03/16/2025 19:36:04 INFO 139741129021248] Epoch[6] Time cost=5.165\u001b[0m\n",
      "\u001b[34m[03/16/2025 19:36:04 INFO 139741129021248] Epoch[6] Validation-accuracy=0.770833\u001b[0m\n",
      "\u001b[34m[03/16/2025 19:36:08 INFO 139741129021248] Epoch[7] Batch [20]#011Speed: 185.116 samples/sec#011accuracy=0.808036\u001b[0m\n",
      "\u001b[34m[03/16/2025 19:36:10 INFO 139741129021248] Epoch[7] Train-accuracy=0.820565\u001b[0m\n",
      "\u001b[34m[03/16/2025 19:36:10 INFO 139741129021248] Epoch[7] Time cost=5.143\u001b[0m\n",
      "\u001b[34m[03/16/2025 19:36:10 INFO 139741129021248] Epoch[7] Validation-accuracy=0.745536\u001b[0m\n",
      "\u001b[34m[03/16/2025 19:36:14 INFO 139741129021248] Epoch[8] Batch [20]#011Speed: 184.988 samples/sec#011accuracy=0.828869\u001b[0m\n",
      "\u001b[34m[03/16/2025 19:36:16 INFO 139741129021248] Epoch[8] Train-accuracy=0.826613\u001b[0m\n",
      "\u001b[34m[03/16/2025 19:36:16 INFO 139741129021248] Epoch[8] Time cost=5.156\u001b[0m\n",
      "\u001b[34m[03/16/2025 19:36:17 INFO 139741129021248] Epoch[8] Validation-accuracy=0.817708\u001b[0m\n",
      "\u001b[34m[03/16/2025 19:36:17 INFO 139741129021248] Storing the best model with validation accuracy: 0.817708\u001b[0m\n",
      "\u001b[34m[03/16/2025 19:36:17 INFO 139741129021248] Saved checkpoint to \"/opt/ml/model/image-classification-0009.params\"\u001b[0m\n",
      "\u001b[34m[03/16/2025 19:36:21 INFO 139741129021248] Epoch[9] Batch [20]#011Speed: 184.525 samples/sec#011accuracy=0.831845\u001b[0m\n",
      "\u001b[34m[03/16/2025 19:36:22 INFO 139741129021248] Epoch[9] Train-accuracy=0.830645\u001b[0m\n",
      "\u001b[34m[03/16/2025 19:36:22 INFO 139741129021248] Epoch[9] Time cost=5.150\u001b[0m\n",
      "\u001b[34m[03/16/2025 19:36:23 INFO 139741129021248] Epoch[9] Validation-accuracy=0.786458\u001b[0m\n",
      "\u001b[34m[03/16/2025 19:36:27 INFO 139741129021248] Epoch[10] Batch [20]#011Speed: 183.959 samples/sec#011accuracy=0.836310\u001b[0m\n",
      "\u001b[34m[03/16/2025 19:36:28 INFO 139741129021248] Epoch[10] Train-accuracy=0.845766\u001b[0m\n",
      "\u001b[34m[03/16/2025 19:36:28 INFO 139741129021248] Epoch[10] Time cost=5.162\u001b[0m\n",
      "\u001b[34m[03/16/2025 19:36:29 INFO 139741129021248] Epoch[10] Validation-accuracy=0.822917\u001b[0m\n",
      "\u001b[34m[03/16/2025 19:36:29 INFO 139741129021248] Storing the best model with validation accuracy: 0.822917\u001b[0m\n",
      "\u001b[34m[03/16/2025 19:36:30 INFO 139741129021248] Saved checkpoint to \"/opt/ml/model/image-classification-0011.params\"\u001b[0m\n",
      "\u001b[34m[03/16/2025 19:36:33 INFO 139741129021248] Epoch[11] Batch [20]#011Speed: 189.058 samples/sec#011accuracy=0.845238\u001b[0m\n",
      "\u001b[34m[03/16/2025 19:36:35 INFO 139741129021248] Epoch[11] Train-accuracy=0.850806\u001b[0m\n",
      "\u001b[34m[03/16/2025 19:36:35 INFO 139741129021248] Epoch[11] Time cost=5.069\u001b[0m\n",
      "\u001b[34m[03/16/2025 19:36:35 INFO 139741129021248] Epoch[11] Validation-accuracy=0.790179\u001b[0m\n",
      "\u001b[34m[03/16/2025 19:36:39 INFO 139741129021248] Epoch[12] Batch [20]#011Speed: 186.984 samples/sec#011accuracy=0.892857\u001b[0m\n",
      "\u001b[34m[03/16/2025 19:36:41 INFO 139741129021248] Epoch[12] Train-accuracy=0.886089\u001b[0m\n",
      "\u001b[34m[03/16/2025 19:36:41 INFO 139741129021248] Epoch[12] Time cost=5.089\u001b[0m\n",
      "\u001b[34m[03/16/2025 19:36:41 INFO 139741129021248] Epoch[12] Validation-accuracy=0.796875\u001b[0m\n",
      "\u001b[34m[03/16/2025 19:36:45 INFO 139741129021248] Epoch[13] Batch [20]#011Speed: 188.405 samples/sec#011accuracy=0.880952\u001b[0m\n",
      "\u001b[34m[03/16/2025 19:36:47 INFO 139741129021248] Epoch[13] Train-accuracy=0.886089\u001b[0m\n",
      "\u001b[34m[03/16/2025 19:36:47 INFO 139741129021248] Epoch[13] Time cost=5.048\u001b[0m\n",
      "\u001b[34m[03/16/2025 19:36:47 INFO 139741129021248] Epoch[13] Validation-accuracy=0.812500\u001b[0m\n",
      "\u001b[34m[03/16/2025 19:36:51 INFO 139741129021248] Epoch[14] Batch [20]#011Speed: 188.227 samples/sec#011accuracy=0.916667\u001b[0m\n",
      "\u001b[34m[03/16/2025 19:36:53 INFO 139741129021248] Epoch[14] Train-accuracy=0.903226\u001b[0m\n",
      "\u001b[34m[03/16/2025 19:36:53 INFO 139741129021248] Epoch[14] Time cost=5.054\u001b[0m\n",
      "\u001b[34m[03/16/2025 19:36:53 INFO 139741129021248] Epoch[14] Validation-accuracy=0.812500\u001b[0m\n",
      "\u001b[34m[03/16/2025 19:36:57 INFO 139741129021248] Epoch[15] Batch [20]#011Speed: 188.725 samples/sec#011accuracy=0.894345\u001b[0m\n",
      "\u001b[34m[03/16/2025 19:36:59 INFO 139741129021248] Epoch[15] Train-accuracy=0.895161\u001b[0m\n",
      "\u001b[34m[03/16/2025 19:36:59 INFO 139741129021248] Epoch[15] Time cost=5.073\u001b[0m\n",
      "\u001b[34m[03/16/2025 19:36:59 INFO 139741129021248] Epoch[15] Validation-accuracy=0.848214\u001b[0m\n",
      "\u001b[34m[03/16/2025 19:37:00 INFO 139741129021248] Storing the best model with validation accuracy: 0.848214\u001b[0m\n",
      "\u001b[34m[03/16/2025 19:37:00 INFO 139741129021248] Saved checkpoint to \"/opt/ml/model/image-classification-0016.params\"\u001b[0m\n",
      "\u001b[34m[03/16/2025 19:37:03 INFO 139741129021248] Epoch[16] Batch [20]#011Speed: 184.514 samples/sec#011accuracy=0.955357\u001b[0m\n",
      "\u001b[34m[03/16/2025 19:37:05 INFO 139741129021248] Epoch[16] Train-accuracy=0.943548\u001b[0m\n",
      "\u001b[34m[03/16/2025 19:37:05 INFO 139741129021248] Epoch[16] Time cost=5.153\u001b[0m\n",
      "\u001b[34m[03/16/2025 19:37:06 INFO 139741129021248] Epoch[16] Validation-accuracy=0.812500\u001b[0m\n",
      "\u001b[34m[03/16/2025 19:37:10 INFO 139741129021248] Epoch[17] Batch [20]#011Speed: 186.925 samples/sec#011accuracy=0.944940\u001b[0m\n",
      "\u001b[34m[03/16/2025 19:37:11 INFO 139741129021248] Epoch[17] Train-accuracy=0.946573\u001b[0m\n",
      "\u001b[34m[03/16/2025 19:37:11 INFO 139741129021248] Epoch[17] Time cost=5.108\u001b[0m\n",
      "\u001b[34m[03/16/2025 19:37:12 INFO 139741129021248] Epoch[17] Validation-accuracy=0.822917\u001b[0m\n",
      "\u001b[34m[03/16/2025 19:37:16 INFO 139741129021248] Epoch[18] Batch [20]#011Speed: 186.203 samples/sec#011accuracy=0.892857\u001b[0m\n",
      "\u001b[34m[03/16/2025 19:37:17 INFO 139741129021248] Epoch[18] Train-accuracy=0.909274\u001b[0m\n",
      "\u001b[34m[03/16/2025 19:37:17 INFO 139741129021248] Epoch[18] Time cost=5.122\u001b[0m\n",
      "\u001b[34m[03/16/2025 19:37:18 INFO 139741129021248] Epoch[18] Validation-accuracy=0.807292\u001b[0m\n",
      "\u001b[34m[03/16/2025 19:37:22 INFO 139741129021248] Epoch[19] Batch [20]#011Speed: 186.908 samples/sec#011accuracy=0.953869\u001b[0m\n",
      "\u001b[34m[03/16/2025 19:37:23 INFO 139741129021248] Epoch[19] Train-accuracy=0.944556\u001b[0m\n",
      "\u001b[34m[03/16/2025 19:37:23 INFO 139741129021248] Epoch[19] Time cost=5.114\u001b[0m\n",
      "\u001b[34m[03/16/2025 19:37:24 INFO 139741129021248] Epoch[19] Validation-accuracy=0.830357\u001b[0m\n",
      "\u001b[34m[03/16/2025 19:37:28 INFO 139741129021248] Epoch[20] Batch [20]#011Speed: 187.072 samples/sec#011accuracy=0.940476\u001b[0m\n",
      "\u001b[34m[03/16/2025 19:37:30 INFO 139741129021248] Epoch[20] Train-accuracy=0.944556\u001b[0m\n",
      "\u001b[34m[03/16/2025 19:37:30 INFO 139741129021248] Epoch[20] Time cost=5.096\u001b[0m\n",
      "\u001b[34m[03/16/2025 19:37:30 INFO 139741129021248] Epoch[20] Validation-accuracy=0.843750\u001b[0m\n",
      "\u001b[34m[03/16/2025 19:37:34 INFO 139741129021248] Epoch[21] Batch [20]#011Speed: 186.062 samples/sec#011accuracy=0.976190\u001b[0m\n",
      "\u001b[34m[03/16/2025 19:37:36 INFO 139741129021248] Epoch[21] Train-accuracy=0.969758\u001b[0m\n",
      "\u001b[34m[03/16/2025 19:37:36 INFO 139741129021248] Epoch[21] Time cost=5.110\u001b[0m\n",
      "\u001b[34m[03/16/2025 19:37:36 INFO 139741129021248] Epoch[21] Validation-accuracy=0.833333\u001b[0m\n",
      "\u001b[34m[03/16/2025 19:37:40 INFO 139741129021248] Epoch[22] Batch [20]#011Speed: 186.758 samples/sec#011accuracy=0.959821\u001b[0m\n",
      "\u001b[34m[03/16/2025 19:37:42 INFO 139741129021248] Epoch[22] Train-accuracy=0.949597\u001b[0m\n",
      "\u001b[34m[03/16/2025 19:37:42 INFO 139741129021248] Epoch[22] Time cost=5.103\u001b[0m\n",
      "\u001b[34m[03/16/2025 19:37:42 INFO 139741129021248] Epoch[22] Validation-accuracy=0.817708\u001b[0m\n",
      "\u001b[34m[03/16/2025 19:37:46 INFO 139741129021248] Epoch[23] Batch [20]#011Speed: 186.205 samples/sec#011accuracy=0.958333\u001b[0m\n",
      "\u001b[34m[03/16/2025 19:37:48 INFO 139741129021248] Epoch[23] Train-accuracy=0.955645\u001b[0m\n",
      "\u001b[34m[03/16/2025 19:37:48 INFO 139741129021248] Epoch[23] Time cost=5.116\u001b[0m\n",
      "\u001b[34m[03/16/2025 19:37:48 INFO 139741129021248] Epoch[23] Validation-accuracy=0.830357\u001b[0m\n",
      "\u001b[34m[03/16/2025 19:37:52 INFO 139741129021248] Epoch[24] Batch [20]#011Speed: 186.680 samples/sec#011accuracy=0.946429\u001b[0m\n",
      "\u001b[34m[03/16/2025 19:37:54 INFO 139741129021248] Epoch[24] Train-accuracy=0.947581\u001b[0m\n",
      "\u001b[34m[03/16/2025 19:37:54 INFO 139741129021248] Epoch[24] Time cost=5.102\u001b[0m\n",
      "\u001b[34m[03/16/2025 19:37:54 INFO 139741129021248] Epoch[24] Validation-accuracy=0.854167\u001b[0m\n",
      "\u001b[34m[03/16/2025 19:37:54 INFO 139741129021248] Storing the best model with validation accuracy: 0.854167\u001b[0m\n",
      "\u001b[34m[03/16/2025 19:37:55 INFO 139741129021248] Saved checkpoint to \"/opt/ml/model/image-classification-0025.params\"\u001b[0m\n",
      "\u001b[34m[03/16/2025 19:37:58 INFO 139741129021248] Epoch[25] Batch [20]#011Speed: 186.665 samples/sec#011accuracy=0.941964\u001b[0m\n",
      "\u001b[34m[03/16/2025 19:38:00 INFO 139741129021248] Epoch[25] Train-accuracy=0.952621\u001b[0m\n",
      "\u001b[34m[03/16/2025 19:38:00 INFO 139741129021248] Epoch[25] Time cost=5.138\u001b[0m\n",
      "\u001b[34m[03/16/2025 19:38:00 INFO 139741129021248] Epoch[25] Validation-accuracy=0.812500\u001b[0m\n",
      "\u001b[34m[03/16/2025 19:38:04 INFO 139741129021248] Epoch[26] Batch [20]#011Speed: 187.298 samples/sec#011accuracy=0.970238\u001b[0m\n",
      "\u001b[34m[03/16/2025 19:38:06 INFO 139741129021248] Epoch[26] Train-accuracy=0.971774\u001b[0m\n",
      "\u001b[34m[03/16/2025 19:38:06 INFO 139741129021248] Epoch[26] Time cost=5.084\u001b[0m\n",
      "\u001b[34m[03/16/2025 19:38:06 INFO 139741129021248] Epoch[26] Validation-accuracy=0.833333\u001b[0m\n",
      "\u001b[34m[03/16/2025 19:38:10 INFO 139741129021248] Epoch[27] Batch [20]#011Speed: 187.670 samples/sec#011accuracy=0.985119\u001b[0m\n",
      "\u001b[34m[03/16/2025 19:38:12 INFO 139741129021248] Epoch[27] Train-accuracy=0.975806\u001b[0m\n",
      "\u001b[34m[03/16/2025 19:38:12 INFO 139741129021248] Epoch[27] Time cost=5.099\u001b[0m\n",
      "\u001b[34m[03/16/2025 19:38:13 INFO 139741129021248] Epoch[27] Validation-accuracy=0.785714\u001b[0m\n",
      "\n",
      "2025-03-16 19:38:29 Uploading - Uploading generated training model\u001b[34m[03/16/2025 19:38:17 INFO 139741129021248] Epoch[28] Batch [20]#011Speed: 185.152 samples/sec#011accuracy=0.962798\u001b[0m\n",
      "\u001b[34m[03/16/2025 19:38:18 INFO 139741129021248] Epoch[28] Train-accuracy=0.963710\u001b[0m\n",
      "\u001b[34m[03/16/2025 19:38:18 INFO 139741129021248] Epoch[28] Time cost=5.142\u001b[0m\n",
      "\u001b[34m[03/16/2025 19:38:19 INFO 139741129021248] Epoch[28] Validation-accuracy=0.848958\u001b[0m\n",
      "\u001b[34m[03/16/2025 19:38:23 INFO 139741129021248] Epoch[29] Batch [20]#011Speed: 187.281 samples/sec#011accuracy=0.979167\u001b[0m\n",
      "\u001b[34m[03/16/2025 19:38:24 INFO 139741129021248] Epoch[29] Train-accuracy=0.981855\u001b[0m\n",
      "\u001b[34m[03/16/2025 19:38:24 INFO 139741129021248] Epoch[29] Time cost=5.096\u001b[0m\n",
      "\u001b[34m[03/16/2025 19:38:25 INFO 139741129021248] Epoch[29] Validation-accuracy=0.838542\u001b[0m\n",
      "\n",
      "2025-03-16 19:38:47 Completed - Training job completed\n",
      "Training seconds: 451\n",
      "Billable seconds: 451\n"
     ]
    }
   ],
   "source": [
    "## TODO: train your model\n",
    "img_classifier_model.fit(inputs=model_inputs)"
   ]
  },
  {
   "cell_type": "markdown",
   "metadata": {},
   "source": [
    "If all goes well, you'll end up with a model topping out above `.8` validation accuracy. With only 1000 training samples in the CIFAR dataset, that's pretty good. We could definitely pursue data augmentation & gathering more samples to help us improve further, but for now let's proceed to deploy our model.\n",
    "\n",
    "### Getting ready to deploy\n",
    "\n",
    "To begin with, let's configure Model Monitor to track our deployment. We'll define a `DataCaptureConfig` below:"
   ]
  },
  {
   "cell_type": "code",
   "execution_count": 119,
   "metadata": {},
   "outputs": [],
   "source": [
    "from sagemaker.model_monitor import DataCaptureConfig\n",
    "\n",
    "\n",
    "data_capture_config = DataCaptureConfig(\n",
    "    ## TODO: Set config options\n",
    "    enable_capture=True,\n",
    "    sampling_percentage=100,\n",
    "    destination_s3_uri=f\"s3://{bucket}/data_capture\"\n",
    ")"
   ]
  },
  {
   "cell_type": "markdown",
   "metadata": {},
   "source": [
    "Note the `destination_s3_uri` parameter: At the end of the project, we can explore the `data_capture` directory in S3 to find crucial data about the inputs and outputs Model Monitor has observed on our model endpoint over time.\n",
    "\n",
    "With that done, deploy your model on a single `ml.m5.xlarge` instance with the data capture config attached:"
   ]
  },
  {
   "cell_type": "code",
   "execution_count": 122,
   "metadata": {},
   "outputs": [
    {
     "data": {
      "text/html": [
       "<pre style=\"white-space:pre;overflow-x:auto;line-height:normal;font-family:Menlo,'DejaVu Sans Mono',consolas,'Courier New',monospace\"><span style=\"color: #7fbfbf; text-decoration-color: #7fbfbf\">[03/16/25 19:50:11] </span><span style=\"color: #0069ff; text-decoration-color: #0069ff; font-weight: bold\">INFO    </span> Creating model with name: image-classification-<span style=\"color: #008080; text-decoration-color: #008080; font-weight: bold\">2025</span>-03-16-19-50-11-219 <a href=\"file:///opt/conda/lib/python3.11/site-packages/sagemaker/session.py\" target=\"_blank\"><span style=\"color: #7f7f7f; text-decoration-color: #7f7f7f\">session.py</span></a><span style=\"color: #7f7f7f; text-decoration-color: #7f7f7f\">:</span><a href=\"file:///opt/conda/lib/python3.11/site-packages/sagemaker/session.py#4094\" target=\"_blank\"><span style=\"color: #7f7f7f; text-decoration-color: #7f7f7f\">4094</span></a>\n",
       "</pre>\n"
      ],
      "text/plain": [
       "\u001b[2;36m[03/16/25 19:50:11]\u001b[0m\u001b[2;36m \u001b[0m\u001b[1;38;2;0;105;255mINFO    \u001b[0m Creating model with name: image-classification-\u001b[1;36m2025\u001b[0m-03-16-19-50-11-219 \u001b]8;id=163312;file:///opt/conda/lib/python3.11/site-packages/sagemaker/session.py\u001b\\\u001b[2msession.py\u001b[0m\u001b]8;;\u001b\\\u001b[2m:\u001b[0m\u001b]8;id=631677;file:///opt/conda/lib/python3.11/site-packages/sagemaker/session.py#4094\u001b\\\u001b[2m4094\u001b[0m\u001b]8;;\u001b\\\n"
      ]
     },
     "metadata": {},
     "output_type": "display_data"
    },
    {
     "data": {
      "text/html": [
       "<pre style=\"white-space:pre;overflow-x:auto;line-height:normal;font-family:Menlo,'DejaVu Sans Mono',consolas,'Courier New',monospace\"><span style=\"color: #7fbfbf; text-decoration-color: #7fbfbf\">[03/16/25 19:50:12] </span><span style=\"color: #0069ff; text-decoration-color: #0069ff; font-weight: bold\">INFO    </span> Creating endpoint-config with name                                     <a href=\"file:///opt/conda/lib/python3.11/site-packages/sagemaker/session.py\" target=\"_blank\"><span style=\"color: #7f7f7f; text-decoration-color: #7f7f7f\">session.py</span></a><span style=\"color: #7f7f7f; text-decoration-color: #7f7f7f\">:</span><a href=\"file:///opt/conda/lib/python3.11/site-packages/sagemaker/session.py#5889\" target=\"_blank\"><span style=\"color: #7f7f7f; text-decoration-color: #7f7f7f\">5889</span></a>\n",
       "<span style=\"color: #7fbfbf; text-decoration-color: #7fbfbf\">                    </span>         image-classification-<span style=\"color: #008080; text-decoration-color: #008080; font-weight: bold\">2025</span>-03-16-19-50-11-219                           <span style=\"color: #7f7f7f; text-decoration-color: #7f7f7f\">               </span>\n",
       "</pre>\n"
      ],
      "text/plain": [
       "\u001b[2;36m[03/16/25 19:50:12]\u001b[0m\u001b[2;36m \u001b[0m\u001b[1;38;2;0;105;255mINFO    \u001b[0m Creating endpoint-config with name                                     \u001b]8;id=807228;file:///opt/conda/lib/python3.11/site-packages/sagemaker/session.py\u001b\\\u001b[2msession.py\u001b[0m\u001b]8;;\u001b\\\u001b[2m:\u001b[0m\u001b]8;id=595351;file:///opt/conda/lib/python3.11/site-packages/sagemaker/session.py#5889\u001b\\\u001b[2m5889\u001b[0m\u001b]8;;\u001b\\\n",
       "\u001b[2;36m                    \u001b[0m         image-classification-\u001b[1;36m2025\u001b[0m-03-16-19-50-11-219                           \u001b[2m               \u001b[0m\n"
      ]
     },
     "metadata": {},
     "output_type": "display_data"
    },
    {
     "data": {
      "text/html": [
       "<pre style=\"white-space:pre;overflow-x:auto;line-height:normal;font-family:Menlo,'DejaVu Sans Mono',consolas,'Courier New',monospace\"><span style=\"color: #7fbfbf; text-decoration-color: #7fbfbf\">                    </span><span style=\"color: #0069ff; text-decoration-color: #0069ff; font-weight: bold\">INFO    </span> Creating endpoint with name                                            <a href=\"file:///opt/conda/lib/python3.11/site-packages/sagemaker/session.py\" target=\"_blank\"><span style=\"color: #7f7f7f; text-decoration-color: #7f7f7f\">session.py</span></a><span style=\"color: #7f7f7f; text-decoration-color: #7f7f7f\">:</span><a href=\"file:///opt/conda/lib/python3.11/site-packages/sagemaker/session.py#4711\" target=\"_blank\"><span style=\"color: #7f7f7f; text-decoration-color: #7f7f7f\">4711</span></a>\n",
       "<span style=\"color: #7fbfbf; text-decoration-color: #7fbfbf\">                    </span>         image-classification-<span style=\"color: #008080; text-decoration-color: #008080; font-weight: bold\">2025</span>-03-16-19-50-11-219                           <span style=\"color: #7f7f7f; text-decoration-color: #7f7f7f\">               </span>\n",
       "</pre>\n"
      ],
      "text/plain": [
       "\u001b[2;36m                   \u001b[0m\u001b[2;36m \u001b[0m\u001b[1;38;2;0;105;255mINFO    \u001b[0m Creating endpoint with name                                            \u001b]8;id=323601;file:///opt/conda/lib/python3.11/site-packages/sagemaker/session.py\u001b\\\u001b[2msession.py\u001b[0m\u001b]8;;\u001b\\\u001b[2m:\u001b[0m\u001b]8;id=896193;file:///opt/conda/lib/python3.11/site-packages/sagemaker/session.py#4711\u001b\\\u001b[2m4711\u001b[0m\u001b]8;;\u001b\\\n",
       "\u001b[2;36m                    \u001b[0m         image-classification-\u001b[1;36m2025\u001b[0m-03-16-19-50-11-219                           \u001b[2m               \u001b[0m\n"
      ]
     },
     "metadata": {},
     "output_type": "display_data"
    },
    {
     "name": "stdout",
     "output_type": "stream",
     "text": [
      "-------------!image-classification-2025-03-16-19-50-11-219\n"
     ]
    }
   ],
   "source": [
    "deployment = img_classifier_model.deploy(\n",
    "    ## TODO: fill in deployment options\n",
    "    initial_instance_count=1,\n",
    "    instance_type=\"ml.m5.xlarge\",\n",
    "    data_capture_config=data_capture_config\n",
    "    )\n",
    "\n",
    "endpoint = deployment.endpoint_name\n",
    "print(endpoint)"
   ]
  },
  {
   "cell_type": "code",
   "execution_count": 129,
   "metadata": {},
   "outputs": [
    {
     "data": {
      "text/plain": [
       "'image-classification-2025-03-16-19-50-11-219'"
      ]
     },
     "execution_count": 129,
     "metadata": {},
     "output_type": "execute_result"
    }
   ],
   "source": [
    "deployment.endpoint_name"
   ]
  },
  {
   "cell_type": "markdown",
   "metadata": {},
   "source": [
    "Note the endpoint name for later as well.\n",
    "\n",
    "Next, instantiate a Predictor:"
   ]
  },
  {
   "cell_type": "code",
   "execution_count": 126,
   "metadata": {},
   "outputs": [],
   "source": [
    "from sagemaker.predictor import Predictor\n",
    "predictor =  Predictor(endpoint)"
   ]
  },
  {
   "cell_type": "markdown",
   "metadata": {},
   "source": [
    "In the code snippet below we are going to prepare one of your saved images for prediction. Use the predictor to process the `payload`."
   ]
  },
  {
   "cell_type": "code",
   "execution_count": 127,
   "metadata": {},
   "outputs": [],
   "source": [
    "from sagemaker.serializers import IdentitySerializer\n",
    "import base64\n",
    "\n",
    "predictor.serializer = IdentitySerializer(\"image/png\")\n",
    "with open(\"./test/bicycle_s_001789.png\", \"rb\") as f:\n",
    "    payload = f.read()\n",
    "\n",
    "inference = predictor.predict(payload)"
   ]
  },
  {
   "cell_type": "markdown",
   "metadata": {},
   "source": [
    "Your `inference` object is an array of two values, the predicted probability value for each of your classes (bicycle and motorcycle respectively.) So, for example, a value of `b'[0.91, 0.09]'` indicates the probability of being a bike is 91% and being a motorcycle is 9%."
   ]
  },
  {
   "cell_type": "code",
   "execution_count": 128,
   "metadata": {},
   "outputs": [
    {
     "name": "stdout",
     "output_type": "stream",
     "text": [
      "b'[0.9995476603507996, 0.00045227984082885087]'\n"
     ]
    }
   ],
   "source": [
    "print(inference)"
   ]
  },
  {
   "cell_type": "markdown",
   "metadata": {},
   "source": [
    "### Draft Lambdas and Step Function Workflow\n",
    "\n",
    "Your operations team uses Step Functions to orchestrate serverless workflows. One of the nice things about Step Functions is that [workflows can call other workflows](https://docs.aws.amazon.com/step-functions/latest/dg/connect-stepfunctions.html), so the team can easily plug your workflow into the broader production architecture for Scones Unlimited.\n",
    "\n",
    "In this next stage you're going to write and deploy three Lambda functions, and then use the Step Functions visual editor to chain them together! Our functions are going to work with a simple data object:\n",
    "\n",
    "```python\n",
    "{\n",
    "    \"inferences\": [], # Output of predictor.predict\n",
    "    \"s3_key\": \"\", # Source data S3 key\n",
    "    \"s3_bucket\": \"\", # Source data S3 bucket\n",
    "    \"image_data\": \"\"  # base64 encoded string containing the image data\n",
    "}\n",
    "```\n",
    "\n",
    "A good test object that you can use for Lambda tests and Step Function executions, throughout the next section, might look like this:\n",
    "\n",
    "```python\n",
    "{\n",
    "  \"image_data\": \"\",\n",
    "  \"s3_bucket\": MY_BUCKET_NAME, # Fill in with your bucket\n",
    "  \"s3_key\": \"test/bicycle_s_000513.png\"\n",
    "}\n",
    "```\n",
    "\n",
    "Using these fields, your functions can read and write the necessary data to execute your workflow. Let's start with the first function. Your first Lambda function will copy an object from S3, base64 encode it, and then return it to the step function as `image_data` in an event.\n",
    "\n",
    "Go to the Lambda dashboard and create a new Lambda function with a descriptive name like \"serializeImageData\" and select thr 'Python 3.8' runtime. Add the same permissions as the SageMaker role you created earlier. (Reminder: you do this in the Configuration tab under \"Permissions\"). Once you're ready, use the starter code below to craft your Lambda handler:\n",
    "\n",
    "```python\n",
    "import json\n",
    "import boto3\n",
    "import base64\n",
    "\n",
    "s3 = boto3.client('s3')\n",
    "\n",
    "def lambda_handler(event, context):\n",
    "    \"\"\"A function to serialize target data from S3\"\"\"\n",
    "    \n",
    "    # Get the s3 address from the Step Function event input\n",
    "    key = ## TODO: fill in\n",
    "    bucket = ## TODO: fill in\n",
    "    \n",
    "    # Download the data from s3 to /tmp/image.png\n",
    "    ## TODO: fill in\n",
    "    \n",
    "    # We read the data from a file\n",
    "    with open(\"/tmp/image.png\", \"rb\") as f:\n",
    "        image_data = base64.b64encode(f.read())\n",
    "\n",
    "    # Pass the data back to the Step Function\n",
    "    print(\"Event:\", event.keys())\n",
    "    return {\n",
    "        'statusCode': 200,\n",
    "        'body': {\n",
    "            \"image_data\": image_data,\n",
    "            \"s3_bucket\": bucket,\n",
    "            \"s3_key\": key,\n",
    "            \"inferences\": []\n",
    "        }\n",
    "    }\n",
    "```\n",
    "\n",
    "The next function is responsible for the classification part - we're going to take the image output from the previous function, decode it, and then pass inferences back to the the Step Function.\n",
    "\n",
    "Because this Lambda will have runtime dependencies (i.e. the SageMaker SDK) you'll need to package them in your function. *Key reading:* https://docs.aws.amazon.com/lambda/latest/dg/python-package-create.html#python-package-create-with-dependency\n",
    "\n",
    "Create a new Lambda function with the same rights and a descriptive name, then fill in the starter code below for your classifier Lambda.\n",
    "\n",
    "```python\n",
    "import json\n",
    "import sagemaker\n",
    "import base64\n",
    "from sagemaker.serializers import IdentitySerializer\n",
    "\n",
    "# Fill this in with the name of your deployed model\n",
    "ENDPOINT = ## TODO: fill in\n",
    "\n",
    "def lambda_handler(event, context):\n",
    "\n",
    "    # Decode the image data\n",
    "    image = base64.b64decode(## TODO: fill in)\n",
    "\n",
    "    # Instantiate a Predictor\n",
    "    predictor = ## TODO: fill in\n",
    "\n",
    "    # For this model the IdentitySerializer needs to be \"image/png\"\n",
    "    predictor.serializer = IdentitySerializer(\"image/png\")\n",
    "    \n",
    "    # Make a prediction:\n",
    "    inferences = ## TODO: fill in\n",
    "    \n",
    "    # We return the data back to the Step Function    \n",
    "    event[\"inferences\"] = inferences.decode('utf-8')\n",
    "    return {\n",
    "        'statusCode': 200,\n",
    "        'body': json.dumps(event)\n",
    "    }\n",
    "```\n",
    "\n",
    "Finally, we need to filter low-confidence inferences. Define a threshold between 1.00 and 0.000 for your model: what is reasonble for you? If the model predicts at `.70` for it's highest confidence label, do we want to pass that inference along to downstream systems? Make one last Lambda function and tee up the same permissions:\n",
    "\n",
    "```python\n",
    "import json\n",
    "\n",
    "\n",
    "THRESHOLD = .93\n",
    "\n",
    "\n",
    "def lambda_handler(event, context):\n",
    "    \n",
    "    # Grab the inferences from the event\n",
    "    inferences = ## TODO: fill in\n",
    "    \n",
    "    # Check if any values in our inferences are above THRESHOLD\n",
    "    meets_threshold = ## TODO: fill in\n",
    "    \n",
    "    # If our threshold is met, pass our data back out of the\n",
    "    # Step Function, else, end the Step Function with an error\n",
    "    if meets_threshold:\n",
    "        pass\n",
    "    else:\n",
    "        raise(\"THRESHOLD_CONFIDENCE_NOT_MET\")\n",
    "\n",
    "    return {\n",
    "        'statusCode': 200,\n",
    "        'body': json.dumps(event)\n",
    "    }\n",
    "```\n",
    "Once you have tested the lambda functions, save the code for each lambda function in a python script called 'lambda.py'.\n",
    "\n",
    "With your lambdas in place, you can use the Step Functions visual editor to construct a workflow that chains them together. In the Step Functions console you'll have the option to author a Standard step function *Visually*.\n",
    "\n",
    "When the visual editor opens, you'll have many options to add transitions in your workflow. We're going to keep it simple and have just one: to invoke Lambda functions. Add three of them chained together. For each one, you'll be able to select the Lambda functions you just created in the proper order, filter inputs and outputs, and give them descriptive names.\n",
    "\n",
    "Make sure that you:\n",
    "\n",
    "1. Are properly filtering the inputs and outputs of your invokations (e.g. `$.body`)\n",
    "2. Take care to remove the error handling from the last function - it's supposed to \"fail loudly\" for your operations colleagues!\n",
    "\n",
    "Take a screenshot of your working step function in action and export the step function as JSON for your submission package."
   ]
  },
  {
   "cell_type": "markdown",
   "metadata": {},
   "source": [
    "\n",
    "Great! Now you can use the files in `./test` as test files for our workflow. Depending on our threshold, our workflow should reliably pass predictions about images from `./test` on to downstream systems, while erroring out for inferences below our confidence threshold!\n",
    "\n",
    "### Testing and Evaluation\n",
    "\n",
    "Do several step function invokations using data from the `./test` folder. This process should give you confidence that the workflow both *succeeds* AND *fails* as expected. In addition, SageMaker Model Monitor will generate recordings of your data and inferences which we can visualize.\n",
    "\n",
    "Here's a function that can help you generate test inputs for your invokations:"
   ]
  },
  {
   "cell_type": "code",
   "execution_count": null,
   "metadata": {},
   "outputs": [],
   "source": [
    "import random\n",
    "import boto3\n",
    "import json\n",
    "\n",
    "\n",
    "def generate_test_case():\n",
    "    # Setup s3 in boto3\n",
    "    s3 = boto3.resource('s3')\n",
    "    \n",
    "    # Randomly pick from sfn or test folders in our bucket\n",
    "    objects = s3.Bucket(bucket).objects.filter(\"test\")\n",
    "    \n",
    "    # Grab any random object key from that folder!\n",
    "    obj = random.choice([x.key for x in objects])\n",
    "    \n",
    "    return json.dumps({\n",
    "        \"image_data\": \"\",\n",
    "        \"s3_bucket\": bucket,\n",
    "        \"s3_key\": obj\n",
    "    })\n",
    "generate_test_case()"
   ]
  },
  {
   "cell_type": "markdown",
   "metadata": {},
   "source": [
    "In the Step Function dashboard for your new function, you can create new executions and copy in the generated test cases. Do several executions so that you can generate data you can evaluate and visualize.\n",
    "\n",
    "Once you've done several executions, let's visualize the record of our inferences. Pull in the JSONLines data from your inferences like so:"
   ]
  },
  {
   "cell_type": "code",
   "execution_count": null,
   "metadata": {},
   "outputs": [],
   "source": [
    "from sagemaker.s3 import S3Downloader\n",
    "\n",
    "# In S3 your data will be saved to a datetime-aware path\n",
    "# Find a path related to a datetime you're interested in\n",
    "data_path = ## TODO: fill in the path to your captured data\n",
    "\n",
    "S3Downloader.download(data_path, \"captured_data\")\n",
    "\n",
    "# Feel free to repeat this multiple times and pull in more data"
   ]
  },
  {
   "cell_type": "markdown",
   "metadata": {},
   "source": [
    "The data are in JSONLines format, where multiple valid JSON objects are stacked on top of eachother in a single `jsonl` file. We'll import an open-source library, `jsonlines` that was purpose built for parsing this format."
   ]
  },
  {
   "cell_type": "code",
   "execution_count": null,
   "metadata": {},
   "outputs": [],
   "source": [
    "!pip install jsonlines\n",
    "import jsonlines"
   ]
  },
  {
   "cell_type": "markdown",
   "metadata": {},
   "source": [
    "Now we can extract the data from each of the source files:"
   ]
  },
  {
   "cell_type": "code",
   "execution_count": null,
   "metadata": {},
   "outputs": [],
   "source": [
    "import os\n",
    "\n",
    "# List the file names we downloaded\n",
    "file_handles = os.listdir(\"./captured_data\")\n",
    "\n",
    "# Dump all the data into an array\n",
    "json_data = []\n",
    "for jsonl in file_handles:\n",
    "    with jsonlines.open(f\"./captured_data/{jsonl}\") as f:\n",
    "        json_data.append(f.read())"
   ]
  },
  {
   "cell_type": "markdown",
   "metadata": {},
   "source": [
    "The data should now be a list of dictionaries, with significant nesting. We'll give you an example of some code that grabs data out of the objects and visualizes it:"
   ]
  },
  {
   "cell_type": "code",
   "execution_count": null,
   "metadata": {},
   "outputs": [],
   "source": [
    "# Define how we'll get our data\n",
    "def simple_getter(obj):\n",
    "    inferences = obj[\"captureData\"][\"endpointOutput\"][\"data\"]\n",
    "    timestamp = obj[\"eventMetadata\"][\"inferenceTime\"]\n",
    "    return json.loads(inferences), timestamp\n",
    "\n",
    "simple_getter(json_data[0])"
   ]
  },
  {
   "cell_type": "markdown",
   "metadata": {},
   "source": [
    "Finally, here's an example of a visualization you can build with this data. In this last part, you will take some time and build your own - the captured data has the input images, the resulting inferences, and the timestamps."
   ]
  },
  {
   "cell_type": "code",
   "execution_count": null,
   "metadata": {},
   "outputs": [],
   "source": [
    "# Populate the data for the x and y axis\n",
    "x = []\n",
    "y = []\n",
    "for obj in json_data:\n",
    "    inference, timestamp = simple_getter(obj)\n",
    "    \n",
    "    y.append(max(inference))\n",
    "    x.append(timestamp)\n",
    "\n",
    "# Todo: here is an visualization example, take some time to build another visual that helps monitor the result\n",
    "# Plot the data\n",
    "plt.scatter(x, y, c=['r' if k<.94 else 'b' for k in y ])\n",
    "plt.axhline(y=0.94, color='g', linestyle='--')\n",
    "plt.ylim(bottom=.88)\n",
    "\n",
    "# Add labels\n",
    "plt.ylabel(\"Confidence\")\n",
    "plt.suptitle(\"Observed Recent Inferences\", size=14)\n",
    "plt.title(\"Pictured with confidence threshold for production use\", size=10)\n",
    "\n",
    "# Give it some pizzaz!\n",
    "plt.style.use(\"Solarize_Light2\")\n",
    "plt.gcf().autofmt_xdate()"
   ]
  },
  {
   "cell_type": "code",
   "execution_count": 134,
   "metadata": {},
   "outputs": [],
   "source": [
    "ENDPOINT = \"image-classification-2025-03-16-19-50-11-219\"\n",
    "import json\n",
    "def lambda_handler(event, context):\n",
    "\n",
    "    # Decode the image data\n",
    "    image = base64.b64decode(event[\"image_data\"])\n",
    "\n",
    "    # Instantiate a Predictor\n",
    "    predictor = Predictor(ENDPOINT)  \n",
    "\n",
    "    # For this model the IdentitySerializer needs to be \"image/png\"\n",
    "    predictor.serializer = IdentitySerializer(\"image/png\")\n",
    "    \n",
    "    # Make a prediction:\n",
    "    inferences = predictor.predict(image)\n",
    "    \n",
    "    # We return the data back to the Step Function    \n",
    "    event[\"inferences\"] = inferences.decode('utf-8')\n",
    "    return {\n",
    "        'statusCode': 200,\n",
    "        'body': json.dumps(event)\n",
    "    }"
   ]
  },
  {
   "cell_type": "code",
   "execution_count": 136,
   "metadata": {},
   "outputs": [
    {
     "name": "stdout",
     "output_type": "stream",
     "text": [
      "Python 3.11.11\n"
     ]
    }
   ],
   "source": [
    "!python --version"
   ]
  },
  {
   "cell_type": "code",
   "execution_count": 135,
   "metadata": {},
   "outputs": [
    {
     "data": {
      "text/plain": [
       "{'statusCode': 200,\n",
       " 'body': '{\"image_data\": \"iVBORw0KGgoAAAANSUhEUgAAACAAAAAgCAYAAABzenr0AAAAOnRFWHRTb2Z0d2FyZQBNYXRwbG90bGliIHZlcnNpb24zLjEwLjAsIGh0dHBzOi8vbWF0cGxvdGxpYi5vcmcvlHJYcgAAAAlwSFlzAAAPYQAAD2EBqD+naQAACoVJREFUeJxdl9mTXdV1xn97OufO93a3elCrW+pmEAg5gCAUieMkdgyxi1A8OY9+zB+Typ+RyksqqeBK4cpkgykggBVGAXIL1Gqpp9uD7nzPPefsvVcerpyHrKf9tNda+1vr+76t/u4fPpQ0SbDWIiriFSS1NrgqAYV4gSInn5zRP7+HkgDR0Fh+nFBbIyHgrOABZQ2JdhhtKCVSAo4CU0wYTWbYSo2IwgeFRAEFdjTukztHvV5HqYgXwFbw0WIQTHbOnc8/JAy6WClYWqrwzac3+fEbP8c3qpzlBq8SPBGRQJFqTJlTKadUxn2GkxGjGJkWnrVLl0FbYtCICCKCrbQ3MVpDOn8FpzRojQ4KHwu8tjRWVhmJopiUjFXK5kt/xSiUrMxusdK8yKQQpnmGdhYTLJ16He/7fHDzLcbS4Nqf/DUXqw1yL/goaA0igvce65IaMQZQjogFARUiSEAilKpB5/INmusKgoAOZNowyLu04h7r6jZn5SLjmcNmPZzNWV5ZwScdrtz4Gb65hHEpeYhEIIjgw7wAUQZrjOCsRmsBKRGJRIEQAojgtMJ7RVlGBEEkEqzBmA6FzMhmh3i3ybS+hHM5Xtc4LQbUTUFtoUFfpZQioBUKIfpAxICaw2CVUoDw+/A+4L1HRFBEnFEoNAYIUUAULoDRKTkdjge/o15/QK7q5LKE9QbncsqYQfSoGAm/v1yBUgYRAEFrjQWIUYBIjJGyLIkxIgLWqHkhSnDWoqKgDCgCRE1hFjjLtmif7rG6uoBJSqQ4wZDQG9cpTY0ilKiYzPMriEEhEv+vYSsijxIK4kt8USASMX5IzM4IfkIsIuPhlDyM8DZhYfN7pAtblNGha08xyQLS30EPT7Fph9HxFl61yKynjAEVShQKpTUhBkRAG43SGmtQxBgJMWK8RwWN1hD6XeL+TTpyn/7JPnu3T+jNxrB2nWdf28S0IMYpwQim8wyzaGmnLfqyRWSD1E6xKidVNYKZz45SgtKCxqC1RiuF1QIEQUIgBIOKGiRSrW/gVj3leY9+HDBuLtB4/FWu/elrJBe2CGisEqKAx5PaBdYvdigHNfpTi1UJVhs8FmvhEfB4pShjwGiFwmNj4VEhoIMQJCAErGiUa2EvPU91o4XaeJJW2MauPkeiLWUMSAhEBRqLWE/hq0xHfdbqYPM+JpZkHnRsER8NuYigY8RpmTOqUuhQloTCIyFilMKZAmVyxFgm2lJUl/netZ9wefUxoEQFRRrBSsBqTVUpLIqZr5FPFVfaOa++1OLZLYvEHCMRI2AEdBS0gBYgRgygQwz44BEFibc4AWUsShscGWWpKQI00pwQIyVjijhBSUCHkmAKglGUNcUwnzL69GMq+R06rodXTSIBYiB4TwyBGCLRg4oGLQYrPiIhghIKXRCVQ4omTo/YrvVxCJPinHpnETvwROvQ0YAXrFE08hn1yT7TfEo9gcHN3/B5fMjD5VdgZsiTGSYkIIr/H94HbCg9xIh4T9RQ4EEcaRLxvofKu6RpTpop1otVzs9rNCfntPoPSHpHyHRAKhOoLVN94iUaa8tMh30OKilacshmeDWfeh5RXni09gBWxYB4IRiFEUU1yfG6yyxU2MtqNGKT9v099r/8AHPxRaZxkzJV5I0GtK5SJh0a9TaDdJGGi0w+/IhLd76j/pdjTjsa61MKFYkSIIKgKKKfs6C12BCnIB2Uc8ziARfHeyyulPjWZXoPMsxpxv43XTLbYHOjSTTP0a9VmErEmAWUDoxLaIYe6f/8J937I5bX2+iHX5ENm+jaFUx7ba41AFGBCCGEeRGlpFRsTrn/LqO99xifH1K6CZefeJJwd0DvIENdvkH1xg3Chc+pDqZMpzUcYMiBEZk7JDn9muPeCZ0/f4XRrTcxH7zDwtUNkhdqCG1GE0eoOAqVo7FYbbHaYI1ounvvku+8xcrGBnb7+8jhAbv/+msuLDSpXr3Kru+wPFvlop/STL5gMngc3++RqQGxekDn4e/4aHfM2tN/w0VaDCdn7ARFLYtc6CeM8t8h43XcyktkroG2OUbPV9GG02/pffc2TzzzHG7ph5Quxx08pFptkW0t8erPX+fsX3Z4682/pf3TDVafPKQfEr7+/Fd0Vo547HqVj7854fOPjljY+3u2vv8XuOmYL4YF5eEplXc+YvvaRZ698QKTSc7M3YB6kyAyF7zBnX/j0tI6ydIPSFQN89VNPnn/HYbjh2zGVe7d2mG7nVGfHvDLX3zLK6++wpXFS7SfrHA0SvnVP93l3oMzkkqLrPcdX+7Aj4xhS18kuf4YZfeQdFCys7PH9vaAqnvA1L6OVC+iGGC793/L9tMvM+vuk5zcRt18h4oek9QS1F6fg85dbDVleXmZemdG9+u79LJjupM7fHkwJCss2ikyGdJprnEynjGaTllZXOeTsy7bw3NaPnLW3mJyfMKFhR5v3z6D1rMoPcBq7Rmd32H3zte8VkxZmfRoX9/gaPeU2OvTOjmjrFW5slTjxR88Re+bEe+/+zW94JkVBkFQOIxWFPmAw4dTTvKEC+4ckwhFESgRdu6ccDyI/NETBdXeh/zizX/Gm4jVRNpLS+w9uM2unzAoIw9OM6KtMi2n7N3aYZjBsy8/x+x8yKc7u9wf9xhkgSAgEvGiiQaGw3OcaXK++RQvTI6I9VV+I2OshXYWOR44vj3IaatI0wrnPkP3JjnLlzZxnSXeGo7479VlPissN4ucwdYah7Ua+1H4dPeA2/sTvtjvcVp4Cm0QHcCCShKCQJCADpFkfRGrcpZ6XYwLdK40eHozZXJ+xDCrkOWWVquBIkXfOzzlrHvKtWt/wHlI6TWWENPGk1C1FpmMqFIyPH7AqDvC1Tp4sfhQECQQjUGllqjBBxiOBfQxtxYVR1XD1e1LJJ0O0l6EtMrZSBj5Ga5SIIVCvbh6XVZXLD99/WW+uLvLweGQqmjWOinHB/fonWTUXIOlehWc4/akynA8oJhMcDpFuwoBwZeeWq2GyhSvvJHSaLT57P0RCxtLSJg7reOpwWYDjOwwYY17+yl2beVnTLIv+fW/v8fV62skyynTccbR0TFHp4JyN8hiFZUu0VpYpGMU9eqAsuFRvom1FYyZC02aVnCqID/8jOd/8ofc2zsiljVsxZJWHU3nWWgM2b23S3P5Ok8/8RxW7AWq1ZeZ9dt88MuPUW7GtIRAhVr1Mom+QrA1+kXCZJCiAyhqLC62mPQNxiSIBBKXkLiE2ITu6TouNnj6hcf45MNIRRIgoNSY6eSYcXFO3UKz2cLWrEcwVC48z9LyNYqYMx5PCEEwSQVtKwhqbkYm5dzNqkVmE0E7halqBNBKMFYwHkxlnfff+4Ifv/FDHnYnHBwHZFxyedmwc9JlOKtwQS2SK4+d+YLUGqJR+JBSBotLa1AW5GWJxBLnHKX3KKVQxqK1np+VImhQSqOUoQglqbFgGtzbd/zHf73NC3/8PO2mpXu/ZPhwh/3Dr6g3n8FVVilLsKZRxZceiASJoB99HLRCO4NYRQDEaIy1KDPvOIrMsTeKiBBgbjqUoTRC0r7GrW8+5rsH/8jm+hb98zHf3f0tpTTY3v4zXLVDyCL/C84d0fPKNK2BAAAAAElFTkSuQmCC\", \"inferences\": \"[0.9948626160621643, 0.005137368571013212]\"}'}"
      ]
     },
     "execution_count": 135,
     "metadata": {},
     "output_type": "execute_result"
    }
   ],
   "source": [
    "test_data={\n",
    "\"image_data\": \"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\"\n",
    "}\n",
    "lambda_handler(test_data,None)"
   ]
  },
  {
   "cell_type": "markdown",
   "metadata": {},
   "source": [
    "### Todo: build your own visualization\n"
   ]
  },
  {
   "cell_type": "markdown",
   "metadata": {},
   "source": [
    "### Congratulations!\n",
    "\n",
    "You've reached the end of the project. In this project you created an event-drivent ML workflow that can be incorporated into the Scones Unlimited production architecture. You used the SageMaker Estimator API to deploy your SageMaker Model and Endpoint, and you used AWS Lambda and Step Functions to orchestrate your ML workflow. Using SageMaker Model Monitor, you instrumented and observed your Endpoint, and at the end of the project you built a visualization to help stakeholders understand the performance of the Endpoint over time. If you're up for it, you can even go further with these stretch goals:\n",
    "\n",
    "* Extend your workflow to incorporate more classes: the CIFAR dataset includes other vehicles that Scones Unlimited can identify with this model.\n",
    "* Modify your event driven workflow: can you rewrite your Lambda functions so that the workflow can process multiple image inputs in parallel? Can the Step Function \"fan out\" to accomodate this new workflow?\n",
    "* Consider the test data generator we provided for you. Can we use it to create a \"dummy data\" generator, to simulate a continuous stream of input data? Or a big paralell load of data?\n",
    "* What if we want to get notified every time our step function errors out? Can we use the Step Functions visual editor in conjunction with a service like SNS to accomplish this? Try it out!\n",
    "\n",
    "\n"
   ]
  }
 ],
 "metadata": {
  "instance_type": "ml.t3.medium",
  "kernelspec": {
   "display_name": "Python 3 (ipykernel)",
   "language": "python",
   "name": "python3"
  },
  "language_info": {
   "codemirror_mode": {
    "name": "ipython",
    "version": 3
   },
   "file_extension": ".py",
   "mimetype": "text/x-python",
   "name": "python",
   "nbconvert_exporter": "python",
   "pygments_lexer": "ipython3",
   "version": "3.11.11"
  }
 },
 "nbformat": 4,
 "nbformat_minor": 4
}
